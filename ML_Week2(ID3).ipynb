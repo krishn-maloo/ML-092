{
  "nbformat": 4,
  "nbformat_minor": 0,
  "metadata": {
    "colab": {
      "provenance": [],
      "authorship_tag": "ABX9TyOdv1QY6+ABqf7z5SoIVRYa",
      "include_colab_link": true
    },
    "kernelspec": {
      "name": "python3",
      "display_name": "Python 3"
    },
    "language_info": {
      "name": "python"
    }
  },
  "cells": [
    {
      "cell_type": "markdown",
      "metadata": {
        "id": "view-in-github",
        "colab_type": "text"
      },
      "source": [
        "<a href=\"https://colab.research.google.com/github/krishn-maloo/ML-092/blob/main/ML_Week3.ipynb\" target=\"_parent\"><img src=\"https://colab.research.google.com/assets/colab-badge.svg\" alt=\"Open In Colab\"/></a>"
      ]
    },
    {
      "cell_type": "code",
      "execution_count": 1,
      "metadata": {
        "id": "KzjOkB6vXL14"
      },
      "outputs": [],
      "source": [
        "import pandas as pd\n",
        "import numpy as np\n",
        "import math\n",
        "\n",
        "# Reading the dataset (Tennis-dataset)\n",
        "data = pd.read_csv('/content/PlayTennis.csv')"
      ]
    },
    {
      "cell_type": "code",
      "source": [
        "\n",
        "def highlight(cell_value):\n",
        "    '''\n",
        "    Highlight yes / no values in the dataframe\n",
        "    '''\n",
        "    color_1 = 'background-color: pink;'\n",
        "    color_2 = 'background-color: lightgreen;'\n",
        "\n",
        "    if cell_value == 'no':\n",
        "        return color_1\n",
        "    elif cell_value == 'yes':\n",
        "        return color_2\n",
        "\n",
        "data.style.applymap(highlight)\\\n",
        "    .set_properties(subset=data.columns, **{'width': '100px'})\\\n",
        "    .set_table_styles([{'selector': 'th', 'props': [('background-color', 'lightgray'), ('border', '1px solid gray'),\n",
        "                                                    ('font-weight', 'bold')]},\n",
        "     {'selector': 'tr:hover', 'props': [('background-color', 'white'), ('border', '1.5px solid black')]}])"
      ],
      "metadata": {
        "colab": {
          "base_uri": "https://localhost:8080/",
          "height": 503
        },
        "id": "ZYd67pc8X9IV",
        "outputId": "0c50e0a2-0c93-4503-eb42-6964677deb79"
      },
      "execution_count": 2,
      "outputs": [
        {
          "output_type": "execute_result",
          "data": {
            "text/plain": [
              "<pandas.io.formats.style.Styler at 0x7d07d0869420>"
            ],
            "text/html": [
              "<style type=\"text/css\">\n",
              "#T_9a31d th {\n",
              "  background-color: lightgray;\n",
              "  border: 1px solid gray;\n",
              "  font-weight: bold;\n",
              "}\n",
              "#T_9a31d tr:hover {\n",
              "  background-color: white;\n",
              "  border: 1.5px solid black;\n",
              "}\n",
              "#T_9a31d_row0_col0, #T_9a31d_row0_col1, #T_9a31d_row0_col2, #T_9a31d_row0_col3, #T_9a31d_row1_col0, #T_9a31d_row1_col1, #T_9a31d_row1_col2, #T_9a31d_row1_col3, #T_9a31d_row2_col0, #T_9a31d_row2_col1, #T_9a31d_row2_col2, #T_9a31d_row2_col3, #T_9a31d_row3_col0, #T_9a31d_row3_col1, #T_9a31d_row3_col2, #T_9a31d_row3_col3, #T_9a31d_row4_col0, #T_9a31d_row4_col1, #T_9a31d_row4_col2, #T_9a31d_row4_col3, #T_9a31d_row5_col0, #T_9a31d_row5_col1, #T_9a31d_row5_col2, #T_9a31d_row5_col3, #T_9a31d_row6_col0, #T_9a31d_row6_col1, #T_9a31d_row6_col2, #T_9a31d_row6_col3, #T_9a31d_row7_col0, #T_9a31d_row7_col1, #T_9a31d_row7_col2, #T_9a31d_row7_col3, #T_9a31d_row8_col0, #T_9a31d_row8_col1, #T_9a31d_row8_col2, #T_9a31d_row8_col3, #T_9a31d_row9_col0, #T_9a31d_row9_col1, #T_9a31d_row9_col2, #T_9a31d_row9_col3, #T_9a31d_row10_col0, #T_9a31d_row10_col1, #T_9a31d_row10_col2, #T_9a31d_row10_col3, #T_9a31d_row11_col0, #T_9a31d_row11_col1, #T_9a31d_row11_col2, #T_9a31d_row11_col3, #T_9a31d_row12_col0, #T_9a31d_row12_col1, #T_9a31d_row12_col2, #T_9a31d_row12_col3, #T_9a31d_row13_col0, #T_9a31d_row13_col1, #T_9a31d_row13_col2, #T_9a31d_row13_col3 {\n",
              "  width: 100px;\n",
              "}\n",
              "#T_9a31d_row0_col4, #T_9a31d_row1_col4, #T_9a31d_row5_col4, #T_9a31d_row7_col4, #T_9a31d_row13_col4 {\n",
              "  background-color: pink;\n",
              "  width: 100px;\n",
              "}\n",
              "#T_9a31d_row2_col4, #T_9a31d_row3_col4, #T_9a31d_row4_col4, #T_9a31d_row6_col4, #T_9a31d_row8_col4, #T_9a31d_row9_col4, #T_9a31d_row10_col4, #T_9a31d_row11_col4, #T_9a31d_row12_col4 {\n",
              "  background-color: lightgreen;\n",
              "  width: 100px;\n",
              "}\n",
              "</style>\n",
              "<table id=\"T_9a31d\" class=\"dataframe\">\n",
              "  <thead>\n",
              "    <tr>\n",
              "      <th class=\"blank level0\" >&nbsp;</th>\n",
              "      <th id=\"T_9a31d_level0_col0\" class=\"col_heading level0 col0\" >outlook</th>\n",
              "      <th id=\"T_9a31d_level0_col1\" class=\"col_heading level0 col1\" >temp</th>\n",
              "      <th id=\"T_9a31d_level0_col2\" class=\"col_heading level0 col2\" >humidity</th>\n",
              "      <th id=\"T_9a31d_level0_col3\" class=\"col_heading level0 col3\" >windy</th>\n",
              "      <th id=\"T_9a31d_level0_col4\" class=\"col_heading level0 col4\" >play</th>\n",
              "    </tr>\n",
              "  </thead>\n",
              "  <tbody>\n",
              "    <tr>\n",
              "      <th id=\"T_9a31d_level0_row0\" class=\"row_heading level0 row0\" >0</th>\n",
              "      <td id=\"T_9a31d_row0_col0\" class=\"data row0 col0\" >sunny</td>\n",
              "      <td id=\"T_9a31d_row0_col1\" class=\"data row0 col1\" >hot</td>\n",
              "      <td id=\"T_9a31d_row0_col2\" class=\"data row0 col2\" >high</td>\n",
              "      <td id=\"T_9a31d_row0_col3\" class=\"data row0 col3\" >False</td>\n",
              "      <td id=\"T_9a31d_row0_col4\" class=\"data row0 col4\" >no</td>\n",
              "    </tr>\n",
              "    <tr>\n",
              "      <th id=\"T_9a31d_level0_row1\" class=\"row_heading level0 row1\" >1</th>\n",
              "      <td id=\"T_9a31d_row1_col0\" class=\"data row1 col0\" >sunny</td>\n",
              "      <td id=\"T_9a31d_row1_col1\" class=\"data row1 col1\" >hot</td>\n",
              "      <td id=\"T_9a31d_row1_col2\" class=\"data row1 col2\" >high</td>\n",
              "      <td id=\"T_9a31d_row1_col3\" class=\"data row1 col3\" >True</td>\n",
              "      <td id=\"T_9a31d_row1_col4\" class=\"data row1 col4\" >no</td>\n",
              "    </tr>\n",
              "    <tr>\n",
              "      <th id=\"T_9a31d_level0_row2\" class=\"row_heading level0 row2\" >2</th>\n",
              "      <td id=\"T_9a31d_row2_col0\" class=\"data row2 col0\" >overcast</td>\n",
              "      <td id=\"T_9a31d_row2_col1\" class=\"data row2 col1\" >hot</td>\n",
              "      <td id=\"T_9a31d_row2_col2\" class=\"data row2 col2\" >high</td>\n",
              "      <td id=\"T_9a31d_row2_col3\" class=\"data row2 col3\" >False</td>\n",
              "      <td id=\"T_9a31d_row2_col4\" class=\"data row2 col4\" >yes</td>\n",
              "    </tr>\n",
              "    <tr>\n",
              "      <th id=\"T_9a31d_level0_row3\" class=\"row_heading level0 row3\" >3</th>\n",
              "      <td id=\"T_9a31d_row3_col0\" class=\"data row3 col0\" >rainy</td>\n",
              "      <td id=\"T_9a31d_row3_col1\" class=\"data row3 col1\" >mild</td>\n",
              "      <td id=\"T_9a31d_row3_col2\" class=\"data row3 col2\" >high</td>\n",
              "      <td id=\"T_9a31d_row3_col3\" class=\"data row3 col3\" >False</td>\n",
              "      <td id=\"T_9a31d_row3_col4\" class=\"data row3 col4\" >yes</td>\n",
              "    </tr>\n",
              "    <tr>\n",
              "      <th id=\"T_9a31d_level0_row4\" class=\"row_heading level0 row4\" >4</th>\n",
              "      <td id=\"T_9a31d_row4_col0\" class=\"data row4 col0\" >rainy</td>\n",
              "      <td id=\"T_9a31d_row4_col1\" class=\"data row4 col1\" >cool</td>\n",
              "      <td id=\"T_9a31d_row4_col2\" class=\"data row4 col2\" >normal</td>\n",
              "      <td id=\"T_9a31d_row4_col3\" class=\"data row4 col3\" >False</td>\n",
              "      <td id=\"T_9a31d_row4_col4\" class=\"data row4 col4\" >yes</td>\n",
              "    </tr>\n",
              "    <tr>\n",
              "      <th id=\"T_9a31d_level0_row5\" class=\"row_heading level0 row5\" >5</th>\n",
              "      <td id=\"T_9a31d_row5_col0\" class=\"data row5 col0\" >rainy</td>\n",
              "      <td id=\"T_9a31d_row5_col1\" class=\"data row5 col1\" >cool</td>\n",
              "      <td id=\"T_9a31d_row5_col2\" class=\"data row5 col2\" >normal</td>\n",
              "      <td id=\"T_9a31d_row5_col3\" class=\"data row5 col3\" >True</td>\n",
              "      <td id=\"T_9a31d_row5_col4\" class=\"data row5 col4\" >no</td>\n",
              "    </tr>\n",
              "    <tr>\n",
              "      <th id=\"T_9a31d_level0_row6\" class=\"row_heading level0 row6\" >6</th>\n",
              "      <td id=\"T_9a31d_row6_col0\" class=\"data row6 col0\" >overcast</td>\n",
              "      <td id=\"T_9a31d_row6_col1\" class=\"data row6 col1\" >cool</td>\n",
              "      <td id=\"T_9a31d_row6_col2\" class=\"data row6 col2\" >normal</td>\n",
              "      <td id=\"T_9a31d_row6_col3\" class=\"data row6 col3\" >True</td>\n",
              "      <td id=\"T_9a31d_row6_col4\" class=\"data row6 col4\" >yes</td>\n",
              "    </tr>\n",
              "    <tr>\n",
              "      <th id=\"T_9a31d_level0_row7\" class=\"row_heading level0 row7\" >7</th>\n",
              "      <td id=\"T_9a31d_row7_col0\" class=\"data row7 col0\" >sunny</td>\n",
              "      <td id=\"T_9a31d_row7_col1\" class=\"data row7 col1\" >mild</td>\n",
              "      <td id=\"T_9a31d_row7_col2\" class=\"data row7 col2\" >high</td>\n",
              "      <td id=\"T_9a31d_row7_col3\" class=\"data row7 col3\" >False</td>\n",
              "      <td id=\"T_9a31d_row7_col4\" class=\"data row7 col4\" >no</td>\n",
              "    </tr>\n",
              "    <tr>\n",
              "      <th id=\"T_9a31d_level0_row8\" class=\"row_heading level0 row8\" >8</th>\n",
              "      <td id=\"T_9a31d_row8_col0\" class=\"data row8 col0\" >sunny</td>\n",
              "      <td id=\"T_9a31d_row8_col1\" class=\"data row8 col1\" >cool</td>\n",
              "      <td id=\"T_9a31d_row8_col2\" class=\"data row8 col2\" >normal</td>\n",
              "      <td id=\"T_9a31d_row8_col3\" class=\"data row8 col3\" >False</td>\n",
              "      <td id=\"T_9a31d_row8_col4\" class=\"data row8 col4\" >yes</td>\n",
              "    </tr>\n",
              "    <tr>\n",
              "      <th id=\"T_9a31d_level0_row9\" class=\"row_heading level0 row9\" >9</th>\n",
              "      <td id=\"T_9a31d_row9_col0\" class=\"data row9 col0\" >rainy</td>\n",
              "      <td id=\"T_9a31d_row9_col1\" class=\"data row9 col1\" >mild</td>\n",
              "      <td id=\"T_9a31d_row9_col2\" class=\"data row9 col2\" >normal</td>\n",
              "      <td id=\"T_9a31d_row9_col3\" class=\"data row9 col3\" >False</td>\n",
              "      <td id=\"T_9a31d_row9_col4\" class=\"data row9 col4\" >yes</td>\n",
              "    </tr>\n",
              "    <tr>\n",
              "      <th id=\"T_9a31d_level0_row10\" class=\"row_heading level0 row10\" >10</th>\n",
              "      <td id=\"T_9a31d_row10_col0\" class=\"data row10 col0\" >sunny</td>\n",
              "      <td id=\"T_9a31d_row10_col1\" class=\"data row10 col1\" >mild</td>\n",
              "      <td id=\"T_9a31d_row10_col2\" class=\"data row10 col2\" >normal</td>\n",
              "      <td id=\"T_9a31d_row10_col3\" class=\"data row10 col3\" >True</td>\n",
              "      <td id=\"T_9a31d_row10_col4\" class=\"data row10 col4\" >yes</td>\n",
              "    </tr>\n",
              "    <tr>\n",
              "      <th id=\"T_9a31d_level0_row11\" class=\"row_heading level0 row11\" >11</th>\n",
              "      <td id=\"T_9a31d_row11_col0\" class=\"data row11 col0\" >overcast</td>\n",
              "      <td id=\"T_9a31d_row11_col1\" class=\"data row11 col1\" >mild</td>\n",
              "      <td id=\"T_9a31d_row11_col2\" class=\"data row11 col2\" >high</td>\n",
              "      <td id=\"T_9a31d_row11_col3\" class=\"data row11 col3\" >True</td>\n",
              "      <td id=\"T_9a31d_row11_col4\" class=\"data row11 col4\" >yes</td>\n",
              "    </tr>\n",
              "    <tr>\n",
              "      <th id=\"T_9a31d_level0_row12\" class=\"row_heading level0 row12\" >12</th>\n",
              "      <td id=\"T_9a31d_row12_col0\" class=\"data row12 col0\" >overcast</td>\n",
              "      <td id=\"T_9a31d_row12_col1\" class=\"data row12 col1\" >hot</td>\n",
              "      <td id=\"T_9a31d_row12_col2\" class=\"data row12 col2\" >normal</td>\n",
              "      <td id=\"T_9a31d_row12_col3\" class=\"data row12 col3\" >False</td>\n",
              "      <td id=\"T_9a31d_row12_col4\" class=\"data row12 col4\" >yes</td>\n",
              "    </tr>\n",
              "    <tr>\n",
              "      <th id=\"T_9a31d_level0_row13\" class=\"row_heading level0 row13\" >13</th>\n",
              "      <td id=\"T_9a31d_row13_col0\" class=\"data row13 col0\" >rainy</td>\n",
              "      <td id=\"T_9a31d_row13_col1\" class=\"data row13 col1\" >mild</td>\n",
              "      <td id=\"T_9a31d_row13_col2\" class=\"data row13 col2\" >high</td>\n",
              "      <td id=\"T_9a31d_row13_col3\" class=\"data row13 col3\" >True</td>\n",
              "      <td id=\"T_9a31d_row13_col4\" class=\"data row13 col4\" >no</td>\n",
              "    </tr>\n",
              "  </tbody>\n",
              "</table>\n"
            ]
          },
          "metadata": {},
          "execution_count": 2
        }
      ]
    },
    {
      "cell_type": "code",
      "source": [
        "def find_entropy(data):\n",
        "    \"\"\"\n",
        "    Returns the entropy of the class or features\n",
        "    formula: - ∑ P(X)logP(X)\n",
        "    \"\"\"\n",
        "    entropy = 0\n",
        "    for i in range(data.nunique()):\n",
        "        x = data.value_counts()[i]/data.shape[0]\n",
        "        entropy += (- x * math.log(x,2))\n",
        "    return round(entropy,3)\n",
        "\n",
        "\n",
        "\n",
        "def information_gain(data, data_):\n",
        "    \"\"\"\n",
        "    Returns the information gain of the features\n",
        "    \"\"\"\n",
        "    info = 0\n",
        "    for i in range(data_.nunique()):\n",
        "        df = data[data_ == data_.unique()[i]]\n",
        "        w_avg = df.shape[0]/data.shape[0]\n",
        "        entropy = find_entropy(df.play)\n",
        "        x = w_avg * entropy\n",
        "        info += x\n",
        "    ig = find_entropy(data.play) - info\n",
        "    return round(ig, 3)\n",
        "\n",
        "\n",
        "\n",
        "def entropy_and_infogain(datax, feature):\n",
        "    \"\"\"\n",
        "    Grouping features with the same class and computing their\n",
        "    entropy and information gain for splitting\n",
        "    \"\"\"\n",
        "    for i in range(data[feature].nunique()):\n",
        "        df = datax[datax[feature]==data[feature].unique()[i]]\n",
        "        if df.shape[0] < 1:\n",
        "            continue\n",
        "\n",
        "        display(df[[feature, 'play']].style.applymap(highlight)\\\n",
        "                .set_properties(subset=[feature, 'play'], **{'width': '80px'})\\\n",
        "                .set_table_styles([{'selector': 'th', 'props': [('background-color', 'lightgray'),\n",
        "                                                                ('border', '1px solid gray'),\n",
        "                                                                ('font-weight', 'bold')]},\n",
        "                                   {'selector': 'td', 'props': [('border', '1px solid gray')]},\n",
        "                                   {'selector': 'tr:hover', 'props': [('background-color', 'white'),\n",
        "                                                                      ('border', '1.5px solid black')]}]))\n",
        "\n",
        "        print(f'Entropy of {feature} - {data[feature].unique()[i]} = {find_entropy(df.play)}')\n",
        "    print(f'Information Gain for {feature} = {information_gain(datax, datax[feature])}')"
      ],
      "metadata": {
        "id": "5SovxzzUYUvc"
      },
      "execution_count": 6,
      "outputs": []
    },
    {
      "cell_type": "code",
      "source": [
        "print(f'Entropy of the entire dataset: {find_entropy(data.play)}')"
      ],
      "metadata": {
        "colab": {
          "base_uri": "https://localhost:8080/"
        },
        "id": "lYLDcqyUZEYl",
        "outputId": "29f90839-6a6c-4d5c-90be-a3944ab2b098"
      },
      "execution_count": 7,
      "outputs": [
        {
          "output_type": "stream",
          "name": "stdout",
          "text": [
            "Entropy of the entire dataset: 0.94\n"
          ]
        }
      ]
    },
    {
      "cell_type": "code",
      "source": [
        "entropy_and_infogain(data, 'outlook')"
      ],
      "metadata": {
        "colab": {
          "base_uri": "https://localhost:8080/",
          "height": 640
        },
        "id": "zD6sZSnsZITM",
        "outputId": "bb71bedb-5936-49cc-833e-57a337ddecb5"
      },
      "execution_count": 8,
      "outputs": [
        {
          "output_type": "display_data",
          "data": {
            "text/plain": [
              "<pandas.io.formats.style.Styler at 0x7d0795023c10>"
            ],
            "text/html": [
              "<style type=\"text/css\">\n",
              "#T_b3719 th {\n",
              "  background-color: lightgray;\n",
              "  border: 1px solid gray;\n",
              "  font-weight: bold;\n",
              "}\n",
              "#T_b3719 td {\n",
              "  border: 1px solid gray;\n",
              "}\n",
              "#T_b3719 tr:hover {\n",
              "  background-color: white;\n",
              "  border: 1.5px solid black;\n",
              "}\n",
              "#T_b3719_row0_col0, #T_b3719_row1_col0, #T_b3719_row2_col0, #T_b3719_row3_col0, #T_b3719_row4_col0 {\n",
              "  width: 80px;\n",
              "}\n",
              "#T_b3719_row0_col1, #T_b3719_row1_col1, #T_b3719_row2_col1 {\n",
              "  background-color: pink;\n",
              "  width: 80px;\n",
              "}\n",
              "#T_b3719_row3_col1, #T_b3719_row4_col1 {\n",
              "  background-color: lightgreen;\n",
              "  width: 80px;\n",
              "}\n",
              "</style>\n",
              "<table id=\"T_b3719\" class=\"dataframe\">\n",
              "  <thead>\n",
              "    <tr>\n",
              "      <th class=\"blank level0\" >&nbsp;</th>\n",
              "      <th id=\"T_b3719_level0_col0\" class=\"col_heading level0 col0\" >outlook</th>\n",
              "      <th id=\"T_b3719_level0_col1\" class=\"col_heading level0 col1\" >play</th>\n",
              "    </tr>\n",
              "  </thead>\n",
              "  <tbody>\n",
              "    <tr>\n",
              "      <th id=\"T_b3719_level0_row0\" class=\"row_heading level0 row0\" >0</th>\n",
              "      <td id=\"T_b3719_row0_col0\" class=\"data row0 col0\" >sunny</td>\n",
              "      <td id=\"T_b3719_row0_col1\" class=\"data row0 col1\" >no</td>\n",
              "    </tr>\n",
              "    <tr>\n",
              "      <th id=\"T_b3719_level0_row1\" class=\"row_heading level0 row1\" >1</th>\n",
              "      <td id=\"T_b3719_row1_col0\" class=\"data row1 col0\" >sunny</td>\n",
              "      <td id=\"T_b3719_row1_col1\" class=\"data row1 col1\" >no</td>\n",
              "    </tr>\n",
              "    <tr>\n",
              "      <th id=\"T_b3719_level0_row2\" class=\"row_heading level0 row2\" >7</th>\n",
              "      <td id=\"T_b3719_row2_col0\" class=\"data row2 col0\" >sunny</td>\n",
              "      <td id=\"T_b3719_row2_col1\" class=\"data row2 col1\" >no</td>\n",
              "    </tr>\n",
              "    <tr>\n",
              "      <th id=\"T_b3719_level0_row3\" class=\"row_heading level0 row3\" >8</th>\n",
              "      <td id=\"T_b3719_row3_col0\" class=\"data row3 col0\" >sunny</td>\n",
              "      <td id=\"T_b3719_row3_col1\" class=\"data row3 col1\" >yes</td>\n",
              "    </tr>\n",
              "    <tr>\n",
              "      <th id=\"T_b3719_level0_row4\" class=\"row_heading level0 row4\" >10</th>\n",
              "      <td id=\"T_b3719_row4_col0\" class=\"data row4 col0\" >sunny</td>\n",
              "      <td id=\"T_b3719_row4_col1\" class=\"data row4 col1\" >yes</td>\n",
              "    </tr>\n",
              "  </tbody>\n",
              "</table>\n"
            ]
          },
          "metadata": {}
        },
        {
          "output_type": "stream",
          "name": "stdout",
          "text": [
            "Entropy of outlook - sunny = 0.971\n"
          ]
        },
        {
          "output_type": "display_data",
          "data": {
            "text/plain": [
              "<pandas.io.formats.style.Styler at 0x7d0795023c10>"
            ],
            "text/html": [
              "<style type=\"text/css\">\n",
              "#T_179e3 th {\n",
              "  background-color: lightgray;\n",
              "  border: 1px solid gray;\n",
              "  font-weight: bold;\n",
              "}\n",
              "#T_179e3 td {\n",
              "  border: 1px solid gray;\n",
              "}\n",
              "#T_179e3 tr:hover {\n",
              "  background-color: white;\n",
              "  border: 1.5px solid black;\n",
              "}\n",
              "#T_179e3_row0_col0, #T_179e3_row1_col0, #T_179e3_row2_col0, #T_179e3_row3_col0 {\n",
              "  width: 80px;\n",
              "}\n",
              "#T_179e3_row0_col1, #T_179e3_row1_col1, #T_179e3_row2_col1, #T_179e3_row3_col1 {\n",
              "  background-color: lightgreen;\n",
              "  width: 80px;\n",
              "}\n",
              "</style>\n",
              "<table id=\"T_179e3\" class=\"dataframe\">\n",
              "  <thead>\n",
              "    <tr>\n",
              "      <th class=\"blank level0\" >&nbsp;</th>\n",
              "      <th id=\"T_179e3_level0_col0\" class=\"col_heading level0 col0\" >outlook</th>\n",
              "      <th id=\"T_179e3_level0_col1\" class=\"col_heading level0 col1\" >play</th>\n",
              "    </tr>\n",
              "  </thead>\n",
              "  <tbody>\n",
              "    <tr>\n",
              "      <th id=\"T_179e3_level0_row0\" class=\"row_heading level0 row0\" >2</th>\n",
              "      <td id=\"T_179e3_row0_col0\" class=\"data row0 col0\" >overcast</td>\n",
              "      <td id=\"T_179e3_row0_col1\" class=\"data row0 col1\" >yes</td>\n",
              "    </tr>\n",
              "    <tr>\n",
              "      <th id=\"T_179e3_level0_row1\" class=\"row_heading level0 row1\" >6</th>\n",
              "      <td id=\"T_179e3_row1_col0\" class=\"data row1 col0\" >overcast</td>\n",
              "      <td id=\"T_179e3_row1_col1\" class=\"data row1 col1\" >yes</td>\n",
              "    </tr>\n",
              "    <tr>\n",
              "      <th id=\"T_179e3_level0_row2\" class=\"row_heading level0 row2\" >11</th>\n",
              "      <td id=\"T_179e3_row2_col0\" class=\"data row2 col0\" >overcast</td>\n",
              "      <td id=\"T_179e3_row2_col1\" class=\"data row2 col1\" >yes</td>\n",
              "    </tr>\n",
              "    <tr>\n",
              "      <th id=\"T_179e3_level0_row3\" class=\"row_heading level0 row3\" >12</th>\n",
              "      <td id=\"T_179e3_row3_col0\" class=\"data row3 col0\" >overcast</td>\n",
              "      <td id=\"T_179e3_row3_col1\" class=\"data row3 col1\" >yes</td>\n",
              "    </tr>\n",
              "  </tbody>\n",
              "</table>\n"
            ]
          },
          "metadata": {}
        },
        {
          "output_type": "stream",
          "name": "stdout",
          "text": [
            "Entropy of outlook - overcast = 0.0\n"
          ]
        },
        {
          "output_type": "display_data",
          "data": {
            "text/plain": [
              "<pandas.io.formats.style.Styler at 0x7d0795023c10>"
            ],
            "text/html": [
              "<style type=\"text/css\">\n",
              "#T_29e32 th {\n",
              "  background-color: lightgray;\n",
              "  border: 1px solid gray;\n",
              "  font-weight: bold;\n",
              "}\n",
              "#T_29e32 td {\n",
              "  border: 1px solid gray;\n",
              "}\n",
              "#T_29e32 tr:hover {\n",
              "  background-color: white;\n",
              "  border: 1.5px solid black;\n",
              "}\n",
              "#T_29e32_row0_col0, #T_29e32_row1_col0, #T_29e32_row2_col0, #T_29e32_row3_col0, #T_29e32_row4_col0 {\n",
              "  width: 80px;\n",
              "}\n",
              "#T_29e32_row0_col1, #T_29e32_row1_col1, #T_29e32_row3_col1 {\n",
              "  background-color: lightgreen;\n",
              "  width: 80px;\n",
              "}\n",
              "#T_29e32_row2_col1, #T_29e32_row4_col1 {\n",
              "  background-color: pink;\n",
              "  width: 80px;\n",
              "}\n",
              "</style>\n",
              "<table id=\"T_29e32\" class=\"dataframe\">\n",
              "  <thead>\n",
              "    <tr>\n",
              "      <th class=\"blank level0\" >&nbsp;</th>\n",
              "      <th id=\"T_29e32_level0_col0\" class=\"col_heading level0 col0\" >outlook</th>\n",
              "      <th id=\"T_29e32_level0_col1\" class=\"col_heading level0 col1\" >play</th>\n",
              "    </tr>\n",
              "  </thead>\n",
              "  <tbody>\n",
              "    <tr>\n",
              "      <th id=\"T_29e32_level0_row0\" class=\"row_heading level0 row0\" >3</th>\n",
              "      <td id=\"T_29e32_row0_col0\" class=\"data row0 col0\" >rainy</td>\n",
              "      <td id=\"T_29e32_row0_col1\" class=\"data row0 col1\" >yes</td>\n",
              "    </tr>\n",
              "    <tr>\n",
              "      <th id=\"T_29e32_level0_row1\" class=\"row_heading level0 row1\" >4</th>\n",
              "      <td id=\"T_29e32_row1_col0\" class=\"data row1 col0\" >rainy</td>\n",
              "      <td id=\"T_29e32_row1_col1\" class=\"data row1 col1\" >yes</td>\n",
              "    </tr>\n",
              "    <tr>\n",
              "      <th id=\"T_29e32_level0_row2\" class=\"row_heading level0 row2\" >5</th>\n",
              "      <td id=\"T_29e32_row2_col0\" class=\"data row2 col0\" >rainy</td>\n",
              "      <td id=\"T_29e32_row2_col1\" class=\"data row2 col1\" >no</td>\n",
              "    </tr>\n",
              "    <tr>\n",
              "      <th id=\"T_29e32_level0_row3\" class=\"row_heading level0 row3\" >9</th>\n",
              "      <td id=\"T_29e32_row3_col0\" class=\"data row3 col0\" >rainy</td>\n",
              "      <td id=\"T_29e32_row3_col1\" class=\"data row3 col1\" >yes</td>\n",
              "    </tr>\n",
              "    <tr>\n",
              "      <th id=\"T_29e32_level0_row4\" class=\"row_heading level0 row4\" >13</th>\n",
              "      <td id=\"T_29e32_row4_col0\" class=\"data row4 col0\" >rainy</td>\n",
              "      <td id=\"T_29e32_row4_col1\" class=\"data row4 col1\" >no</td>\n",
              "    </tr>\n",
              "  </tbody>\n",
              "</table>\n"
            ]
          },
          "metadata": {}
        },
        {
          "output_type": "stream",
          "name": "stdout",
          "text": [
            "Entropy of outlook - rainy = 0.971\n",
            "Information Gain for outlook = 0.246\n"
          ]
        }
      ]
    },
    {
      "cell_type": "code",
      "source": [
        "entropy_and_infogain(data, 'temp')"
      ],
      "metadata": {
        "colab": {
          "base_uri": "https://localhost:8080/",
          "height": 640
        },
        "id": "GtoAcQ4iZOiE",
        "outputId": "97ff483b-3da1-40bf-8e64-12320b23d6e1"
      },
      "execution_count": 9,
      "outputs": [
        {
          "output_type": "display_data",
          "data": {
            "text/plain": [
              "<pandas.io.formats.style.Styler at 0x7d07950200d0>"
            ],
            "text/html": [
              "<style type=\"text/css\">\n",
              "#T_52771 th {\n",
              "  background-color: lightgray;\n",
              "  border: 1px solid gray;\n",
              "  font-weight: bold;\n",
              "}\n",
              "#T_52771 td {\n",
              "  border: 1px solid gray;\n",
              "}\n",
              "#T_52771 tr:hover {\n",
              "  background-color: white;\n",
              "  border: 1.5px solid black;\n",
              "}\n",
              "#T_52771_row0_col0, #T_52771_row1_col0, #T_52771_row2_col0, #T_52771_row3_col0 {\n",
              "  width: 80px;\n",
              "}\n",
              "#T_52771_row0_col1, #T_52771_row1_col1 {\n",
              "  background-color: pink;\n",
              "  width: 80px;\n",
              "}\n",
              "#T_52771_row2_col1, #T_52771_row3_col1 {\n",
              "  background-color: lightgreen;\n",
              "  width: 80px;\n",
              "}\n",
              "</style>\n",
              "<table id=\"T_52771\" class=\"dataframe\">\n",
              "  <thead>\n",
              "    <tr>\n",
              "      <th class=\"blank level0\" >&nbsp;</th>\n",
              "      <th id=\"T_52771_level0_col0\" class=\"col_heading level0 col0\" >temp</th>\n",
              "      <th id=\"T_52771_level0_col1\" class=\"col_heading level0 col1\" >play</th>\n",
              "    </tr>\n",
              "  </thead>\n",
              "  <tbody>\n",
              "    <tr>\n",
              "      <th id=\"T_52771_level0_row0\" class=\"row_heading level0 row0\" >0</th>\n",
              "      <td id=\"T_52771_row0_col0\" class=\"data row0 col0\" >hot</td>\n",
              "      <td id=\"T_52771_row0_col1\" class=\"data row0 col1\" >no</td>\n",
              "    </tr>\n",
              "    <tr>\n",
              "      <th id=\"T_52771_level0_row1\" class=\"row_heading level0 row1\" >1</th>\n",
              "      <td id=\"T_52771_row1_col0\" class=\"data row1 col0\" >hot</td>\n",
              "      <td id=\"T_52771_row1_col1\" class=\"data row1 col1\" >no</td>\n",
              "    </tr>\n",
              "    <tr>\n",
              "      <th id=\"T_52771_level0_row2\" class=\"row_heading level0 row2\" >2</th>\n",
              "      <td id=\"T_52771_row2_col0\" class=\"data row2 col0\" >hot</td>\n",
              "      <td id=\"T_52771_row2_col1\" class=\"data row2 col1\" >yes</td>\n",
              "    </tr>\n",
              "    <tr>\n",
              "      <th id=\"T_52771_level0_row3\" class=\"row_heading level0 row3\" >12</th>\n",
              "      <td id=\"T_52771_row3_col0\" class=\"data row3 col0\" >hot</td>\n",
              "      <td id=\"T_52771_row3_col1\" class=\"data row3 col1\" >yes</td>\n",
              "    </tr>\n",
              "  </tbody>\n",
              "</table>\n"
            ]
          },
          "metadata": {}
        },
        {
          "output_type": "stream",
          "name": "stdout",
          "text": [
            "Entropy of temp - hot = 1.0\n"
          ]
        },
        {
          "output_type": "display_data",
          "data": {
            "text/plain": [
              "<pandas.io.formats.style.Styler at 0x7d07950200d0>"
            ],
            "text/html": [
              "<style type=\"text/css\">\n",
              "#T_4e30b th {\n",
              "  background-color: lightgray;\n",
              "  border: 1px solid gray;\n",
              "  font-weight: bold;\n",
              "}\n",
              "#T_4e30b td {\n",
              "  border: 1px solid gray;\n",
              "}\n",
              "#T_4e30b tr:hover {\n",
              "  background-color: white;\n",
              "  border: 1.5px solid black;\n",
              "}\n",
              "#T_4e30b_row0_col0, #T_4e30b_row1_col0, #T_4e30b_row2_col0, #T_4e30b_row3_col0, #T_4e30b_row4_col0, #T_4e30b_row5_col0 {\n",
              "  width: 80px;\n",
              "}\n",
              "#T_4e30b_row0_col1, #T_4e30b_row2_col1, #T_4e30b_row3_col1, #T_4e30b_row4_col1 {\n",
              "  background-color: lightgreen;\n",
              "  width: 80px;\n",
              "}\n",
              "#T_4e30b_row1_col1, #T_4e30b_row5_col1 {\n",
              "  background-color: pink;\n",
              "  width: 80px;\n",
              "}\n",
              "</style>\n",
              "<table id=\"T_4e30b\" class=\"dataframe\">\n",
              "  <thead>\n",
              "    <tr>\n",
              "      <th class=\"blank level0\" >&nbsp;</th>\n",
              "      <th id=\"T_4e30b_level0_col0\" class=\"col_heading level0 col0\" >temp</th>\n",
              "      <th id=\"T_4e30b_level0_col1\" class=\"col_heading level0 col1\" >play</th>\n",
              "    </tr>\n",
              "  </thead>\n",
              "  <tbody>\n",
              "    <tr>\n",
              "      <th id=\"T_4e30b_level0_row0\" class=\"row_heading level0 row0\" >3</th>\n",
              "      <td id=\"T_4e30b_row0_col0\" class=\"data row0 col0\" >mild</td>\n",
              "      <td id=\"T_4e30b_row0_col1\" class=\"data row0 col1\" >yes</td>\n",
              "    </tr>\n",
              "    <tr>\n",
              "      <th id=\"T_4e30b_level0_row1\" class=\"row_heading level0 row1\" >7</th>\n",
              "      <td id=\"T_4e30b_row1_col0\" class=\"data row1 col0\" >mild</td>\n",
              "      <td id=\"T_4e30b_row1_col1\" class=\"data row1 col1\" >no</td>\n",
              "    </tr>\n",
              "    <tr>\n",
              "      <th id=\"T_4e30b_level0_row2\" class=\"row_heading level0 row2\" >9</th>\n",
              "      <td id=\"T_4e30b_row2_col0\" class=\"data row2 col0\" >mild</td>\n",
              "      <td id=\"T_4e30b_row2_col1\" class=\"data row2 col1\" >yes</td>\n",
              "    </tr>\n",
              "    <tr>\n",
              "      <th id=\"T_4e30b_level0_row3\" class=\"row_heading level0 row3\" >10</th>\n",
              "      <td id=\"T_4e30b_row3_col0\" class=\"data row3 col0\" >mild</td>\n",
              "      <td id=\"T_4e30b_row3_col1\" class=\"data row3 col1\" >yes</td>\n",
              "    </tr>\n",
              "    <tr>\n",
              "      <th id=\"T_4e30b_level0_row4\" class=\"row_heading level0 row4\" >11</th>\n",
              "      <td id=\"T_4e30b_row4_col0\" class=\"data row4 col0\" >mild</td>\n",
              "      <td id=\"T_4e30b_row4_col1\" class=\"data row4 col1\" >yes</td>\n",
              "    </tr>\n",
              "    <tr>\n",
              "      <th id=\"T_4e30b_level0_row5\" class=\"row_heading level0 row5\" >13</th>\n",
              "      <td id=\"T_4e30b_row5_col0\" class=\"data row5 col0\" >mild</td>\n",
              "      <td id=\"T_4e30b_row5_col1\" class=\"data row5 col1\" >no</td>\n",
              "    </tr>\n",
              "  </tbody>\n",
              "</table>\n"
            ]
          },
          "metadata": {}
        },
        {
          "output_type": "stream",
          "name": "stdout",
          "text": [
            "Entropy of temp - mild = 0.918\n"
          ]
        },
        {
          "output_type": "display_data",
          "data": {
            "text/plain": [
              "<pandas.io.formats.style.Styler at 0x7d07950200d0>"
            ],
            "text/html": [
              "<style type=\"text/css\">\n",
              "#T_9eb2a th {\n",
              "  background-color: lightgray;\n",
              "  border: 1px solid gray;\n",
              "  font-weight: bold;\n",
              "}\n",
              "#T_9eb2a td {\n",
              "  border: 1px solid gray;\n",
              "}\n",
              "#T_9eb2a tr:hover {\n",
              "  background-color: white;\n",
              "  border: 1.5px solid black;\n",
              "}\n",
              "#T_9eb2a_row0_col0, #T_9eb2a_row1_col0, #T_9eb2a_row2_col0, #T_9eb2a_row3_col0 {\n",
              "  width: 80px;\n",
              "}\n",
              "#T_9eb2a_row0_col1, #T_9eb2a_row2_col1, #T_9eb2a_row3_col1 {\n",
              "  background-color: lightgreen;\n",
              "  width: 80px;\n",
              "}\n",
              "#T_9eb2a_row1_col1 {\n",
              "  background-color: pink;\n",
              "  width: 80px;\n",
              "}\n",
              "</style>\n",
              "<table id=\"T_9eb2a\" class=\"dataframe\">\n",
              "  <thead>\n",
              "    <tr>\n",
              "      <th class=\"blank level0\" >&nbsp;</th>\n",
              "      <th id=\"T_9eb2a_level0_col0\" class=\"col_heading level0 col0\" >temp</th>\n",
              "      <th id=\"T_9eb2a_level0_col1\" class=\"col_heading level0 col1\" >play</th>\n",
              "    </tr>\n",
              "  </thead>\n",
              "  <tbody>\n",
              "    <tr>\n",
              "      <th id=\"T_9eb2a_level0_row0\" class=\"row_heading level0 row0\" >4</th>\n",
              "      <td id=\"T_9eb2a_row0_col0\" class=\"data row0 col0\" >cool</td>\n",
              "      <td id=\"T_9eb2a_row0_col1\" class=\"data row0 col1\" >yes</td>\n",
              "    </tr>\n",
              "    <tr>\n",
              "      <th id=\"T_9eb2a_level0_row1\" class=\"row_heading level0 row1\" >5</th>\n",
              "      <td id=\"T_9eb2a_row1_col0\" class=\"data row1 col0\" >cool</td>\n",
              "      <td id=\"T_9eb2a_row1_col1\" class=\"data row1 col1\" >no</td>\n",
              "    </tr>\n",
              "    <tr>\n",
              "      <th id=\"T_9eb2a_level0_row2\" class=\"row_heading level0 row2\" >6</th>\n",
              "      <td id=\"T_9eb2a_row2_col0\" class=\"data row2 col0\" >cool</td>\n",
              "      <td id=\"T_9eb2a_row2_col1\" class=\"data row2 col1\" >yes</td>\n",
              "    </tr>\n",
              "    <tr>\n",
              "      <th id=\"T_9eb2a_level0_row3\" class=\"row_heading level0 row3\" >8</th>\n",
              "      <td id=\"T_9eb2a_row3_col0\" class=\"data row3 col0\" >cool</td>\n",
              "      <td id=\"T_9eb2a_row3_col1\" class=\"data row3 col1\" >yes</td>\n",
              "    </tr>\n",
              "  </tbody>\n",
              "</table>\n"
            ]
          },
          "metadata": {}
        },
        {
          "output_type": "stream",
          "name": "stdout",
          "text": [
            "Entropy of temp - cool = 0.811\n",
            "Information Gain for temp = 0.029\n"
          ]
        }
      ]
    },
    {
      "cell_type": "code",
      "source": [
        "entropy_and_infogain(data, 'humidity')"
      ],
      "metadata": {
        "colab": {
          "base_uri": "https://localhost:8080/",
          "height": 589
        },
        "id": "ied80WmWZSHt",
        "outputId": "6e30d534-6655-4826-87ac-835f9e05c1c2"
      },
      "execution_count": 10,
      "outputs": [
        {
          "output_type": "display_data",
          "data": {
            "text/plain": [
              "<pandas.io.formats.style.Styler at 0x7d0795021f30>"
            ],
            "text/html": [
              "<style type=\"text/css\">\n",
              "#T_23378 th {\n",
              "  background-color: lightgray;\n",
              "  border: 1px solid gray;\n",
              "  font-weight: bold;\n",
              "}\n",
              "#T_23378 td {\n",
              "  border: 1px solid gray;\n",
              "}\n",
              "#T_23378 tr:hover {\n",
              "  background-color: white;\n",
              "  border: 1.5px solid black;\n",
              "}\n",
              "#T_23378_row0_col0, #T_23378_row1_col0, #T_23378_row2_col0, #T_23378_row3_col0, #T_23378_row4_col0, #T_23378_row5_col0, #T_23378_row6_col0 {\n",
              "  width: 80px;\n",
              "}\n",
              "#T_23378_row0_col1, #T_23378_row1_col1, #T_23378_row4_col1, #T_23378_row6_col1 {\n",
              "  background-color: pink;\n",
              "  width: 80px;\n",
              "}\n",
              "#T_23378_row2_col1, #T_23378_row3_col1, #T_23378_row5_col1 {\n",
              "  background-color: lightgreen;\n",
              "  width: 80px;\n",
              "}\n",
              "</style>\n",
              "<table id=\"T_23378\" class=\"dataframe\">\n",
              "  <thead>\n",
              "    <tr>\n",
              "      <th class=\"blank level0\" >&nbsp;</th>\n",
              "      <th id=\"T_23378_level0_col0\" class=\"col_heading level0 col0\" >humidity</th>\n",
              "      <th id=\"T_23378_level0_col1\" class=\"col_heading level0 col1\" >play</th>\n",
              "    </tr>\n",
              "  </thead>\n",
              "  <tbody>\n",
              "    <tr>\n",
              "      <th id=\"T_23378_level0_row0\" class=\"row_heading level0 row0\" >0</th>\n",
              "      <td id=\"T_23378_row0_col0\" class=\"data row0 col0\" >high</td>\n",
              "      <td id=\"T_23378_row0_col1\" class=\"data row0 col1\" >no</td>\n",
              "    </tr>\n",
              "    <tr>\n",
              "      <th id=\"T_23378_level0_row1\" class=\"row_heading level0 row1\" >1</th>\n",
              "      <td id=\"T_23378_row1_col0\" class=\"data row1 col0\" >high</td>\n",
              "      <td id=\"T_23378_row1_col1\" class=\"data row1 col1\" >no</td>\n",
              "    </tr>\n",
              "    <tr>\n",
              "      <th id=\"T_23378_level0_row2\" class=\"row_heading level0 row2\" >2</th>\n",
              "      <td id=\"T_23378_row2_col0\" class=\"data row2 col0\" >high</td>\n",
              "      <td id=\"T_23378_row2_col1\" class=\"data row2 col1\" >yes</td>\n",
              "    </tr>\n",
              "    <tr>\n",
              "      <th id=\"T_23378_level0_row3\" class=\"row_heading level0 row3\" >3</th>\n",
              "      <td id=\"T_23378_row3_col0\" class=\"data row3 col0\" >high</td>\n",
              "      <td id=\"T_23378_row3_col1\" class=\"data row3 col1\" >yes</td>\n",
              "    </tr>\n",
              "    <tr>\n",
              "      <th id=\"T_23378_level0_row4\" class=\"row_heading level0 row4\" >7</th>\n",
              "      <td id=\"T_23378_row4_col0\" class=\"data row4 col0\" >high</td>\n",
              "      <td id=\"T_23378_row4_col1\" class=\"data row4 col1\" >no</td>\n",
              "    </tr>\n",
              "    <tr>\n",
              "      <th id=\"T_23378_level0_row5\" class=\"row_heading level0 row5\" >11</th>\n",
              "      <td id=\"T_23378_row5_col0\" class=\"data row5 col0\" >high</td>\n",
              "      <td id=\"T_23378_row5_col1\" class=\"data row5 col1\" >yes</td>\n",
              "    </tr>\n",
              "    <tr>\n",
              "      <th id=\"T_23378_level0_row6\" class=\"row_heading level0 row6\" >13</th>\n",
              "      <td id=\"T_23378_row6_col0\" class=\"data row6 col0\" >high</td>\n",
              "      <td id=\"T_23378_row6_col1\" class=\"data row6 col1\" >no</td>\n",
              "    </tr>\n",
              "  </tbody>\n",
              "</table>\n"
            ]
          },
          "metadata": {}
        },
        {
          "output_type": "stream",
          "name": "stdout",
          "text": [
            "Entropy of humidity - high = 0.985\n"
          ]
        },
        {
          "output_type": "display_data",
          "data": {
            "text/plain": [
              "<pandas.io.formats.style.Styler at 0x7d0795021f30>"
            ],
            "text/html": [
              "<style type=\"text/css\">\n",
              "#T_220c6 th {\n",
              "  background-color: lightgray;\n",
              "  border: 1px solid gray;\n",
              "  font-weight: bold;\n",
              "}\n",
              "#T_220c6 td {\n",
              "  border: 1px solid gray;\n",
              "}\n",
              "#T_220c6 tr:hover {\n",
              "  background-color: white;\n",
              "  border: 1.5px solid black;\n",
              "}\n",
              "#T_220c6_row0_col0, #T_220c6_row1_col0, #T_220c6_row2_col0, #T_220c6_row3_col0, #T_220c6_row4_col0, #T_220c6_row5_col0, #T_220c6_row6_col0 {\n",
              "  width: 80px;\n",
              "}\n",
              "#T_220c6_row0_col1, #T_220c6_row2_col1, #T_220c6_row3_col1, #T_220c6_row4_col1, #T_220c6_row5_col1, #T_220c6_row6_col1 {\n",
              "  background-color: lightgreen;\n",
              "  width: 80px;\n",
              "}\n",
              "#T_220c6_row1_col1 {\n",
              "  background-color: pink;\n",
              "  width: 80px;\n",
              "}\n",
              "</style>\n",
              "<table id=\"T_220c6\" class=\"dataframe\">\n",
              "  <thead>\n",
              "    <tr>\n",
              "      <th class=\"blank level0\" >&nbsp;</th>\n",
              "      <th id=\"T_220c6_level0_col0\" class=\"col_heading level0 col0\" >humidity</th>\n",
              "      <th id=\"T_220c6_level0_col1\" class=\"col_heading level0 col1\" >play</th>\n",
              "    </tr>\n",
              "  </thead>\n",
              "  <tbody>\n",
              "    <tr>\n",
              "      <th id=\"T_220c6_level0_row0\" class=\"row_heading level0 row0\" >4</th>\n",
              "      <td id=\"T_220c6_row0_col0\" class=\"data row0 col0\" >normal</td>\n",
              "      <td id=\"T_220c6_row0_col1\" class=\"data row0 col1\" >yes</td>\n",
              "    </tr>\n",
              "    <tr>\n",
              "      <th id=\"T_220c6_level0_row1\" class=\"row_heading level0 row1\" >5</th>\n",
              "      <td id=\"T_220c6_row1_col0\" class=\"data row1 col0\" >normal</td>\n",
              "      <td id=\"T_220c6_row1_col1\" class=\"data row1 col1\" >no</td>\n",
              "    </tr>\n",
              "    <tr>\n",
              "      <th id=\"T_220c6_level0_row2\" class=\"row_heading level0 row2\" >6</th>\n",
              "      <td id=\"T_220c6_row2_col0\" class=\"data row2 col0\" >normal</td>\n",
              "      <td id=\"T_220c6_row2_col1\" class=\"data row2 col1\" >yes</td>\n",
              "    </tr>\n",
              "    <tr>\n",
              "      <th id=\"T_220c6_level0_row3\" class=\"row_heading level0 row3\" >8</th>\n",
              "      <td id=\"T_220c6_row3_col0\" class=\"data row3 col0\" >normal</td>\n",
              "      <td id=\"T_220c6_row3_col1\" class=\"data row3 col1\" >yes</td>\n",
              "    </tr>\n",
              "    <tr>\n",
              "      <th id=\"T_220c6_level0_row4\" class=\"row_heading level0 row4\" >9</th>\n",
              "      <td id=\"T_220c6_row4_col0\" class=\"data row4 col0\" >normal</td>\n",
              "      <td id=\"T_220c6_row4_col1\" class=\"data row4 col1\" >yes</td>\n",
              "    </tr>\n",
              "    <tr>\n",
              "      <th id=\"T_220c6_level0_row5\" class=\"row_heading level0 row5\" >10</th>\n",
              "      <td id=\"T_220c6_row5_col0\" class=\"data row5 col0\" >normal</td>\n",
              "      <td id=\"T_220c6_row5_col1\" class=\"data row5 col1\" >yes</td>\n",
              "    </tr>\n",
              "    <tr>\n",
              "      <th id=\"T_220c6_level0_row6\" class=\"row_heading level0 row6\" >12</th>\n",
              "      <td id=\"T_220c6_row6_col0\" class=\"data row6 col0\" >normal</td>\n",
              "      <td id=\"T_220c6_row6_col1\" class=\"data row6 col1\" >yes</td>\n",
              "    </tr>\n",
              "  </tbody>\n",
              "</table>\n"
            ]
          },
          "metadata": {}
        },
        {
          "output_type": "stream",
          "name": "stdout",
          "text": [
            "Entropy of humidity - normal = 0.592\n",
            "Information Gain for humidity = 0.151\n"
          ]
        }
      ]
    },
    {
      "cell_type": "code",
      "source": [
        "entropy_and_infogain(data, 'windy')"
      ],
      "metadata": {
        "colab": {
          "base_uri": "https://localhost:8080/",
          "height": 589
        },
        "id": "pdGeeUkWZVIk",
        "outputId": "44973fd2-f096-42b4-b0da-037fa24ad86c"
      },
      "execution_count": 11,
      "outputs": [
        {
          "output_type": "display_data",
          "data": {
            "text/plain": [
              "<pandas.io.formats.style.Styler at 0x7d0795021510>"
            ],
            "text/html": [
              "<style type=\"text/css\">\n",
              "#T_fd08f th {\n",
              "  background-color: lightgray;\n",
              "  border: 1px solid gray;\n",
              "  font-weight: bold;\n",
              "}\n",
              "#T_fd08f td {\n",
              "  border: 1px solid gray;\n",
              "}\n",
              "#T_fd08f tr:hover {\n",
              "  background-color: white;\n",
              "  border: 1.5px solid black;\n",
              "}\n",
              "#T_fd08f_row0_col0, #T_fd08f_row1_col0, #T_fd08f_row2_col0, #T_fd08f_row3_col0, #T_fd08f_row4_col0, #T_fd08f_row5_col0, #T_fd08f_row6_col0, #T_fd08f_row7_col0 {\n",
              "  width: 80px;\n",
              "}\n",
              "#T_fd08f_row0_col1, #T_fd08f_row4_col1 {\n",
              "  background-color: pink;\n",
              "  width: 80px;\n",
              "}\n",
              "#T_fd08f_row1_col1, #T_fd08f_row2_col1, #T_fd08f_row3_col1, #T_fd08f_row5_col1, #T_fd08f_row6_col1, #T_fd08f_row7_col1 {\n",
              "  background-color: lightgreen;\n",
              "  width: 80px;\n",
              "}\n",
              "</style>\n",
              "<table id=\"T_fd08f\" class=\"dataframe\">\n",
              "  <thead>\n",
              "    <tr>\n",
              "      <th class=\"blank level0\" >&nbsp;</th>\n",
              "      <th id=\"T_fd08f_level0_col0\" class=\"col_heading level0 col0\" >windy</th>\n",
              "      <th id=\"T_fd08f_level0_col1\" class=\"col_heading level0 col1\" >play</th>\n",
              "    </tr>\n",
              "  </thead>\n",
              "  <tbody>\n",
              "    <tr>\n",
              "      <th id=\"T_fd08f_level0_row0\" class=\"row_heading level0 row0\" >0</th>\n",
              "      <td id=\"T_fd08f_row0_col0\" class=\"data row0 col0\" >False</td>\n",
              "      <td id=\"T_fd08f_row0_col1\" class=\"data row0 col1\" >no</td>\n",
              "    </tr>\n",
              "    <tr>\n",
              "      <th id=\"T_fd08f_level0_row1\" class=\"row_heading level0 row1\" >2</th>\n",
              "      <td id=\"T_fd08f_row1_col0\" class=\"data row1 col0\" >False</td>\n",
              "      <td id=\"T_fd08f_row1_col1\" class=\"data row1 col1\" >yes</td>\n",
              "    </tr>\n",
              "    <tr>\n",
              "      <th id=\"T_fd08f_level0_row2\" class=\"row_heading level0 row2\" >3</th>\n",
              "      <td id=\"T_fd08f_row2_col0\" class=\"data row2 col0\" >False</td>\n",
              "      <td id=\"T_fd08f_row2_col1\" class=\"data row2 col1\" >yes</td>\n",
              "    </tr>\n",
              "    <tr>\n",
              "      <th id=\"T_fd08f_level0_row3\" class=\"row_heading level0 row3\" >4</th>\n",
              "      <td id=\"T_fd08f_row3_col0\" class=\"data row3 col0\" >False</td>\n",
              "      <td id=\"T_fd08f_row3_col1\" class=\"data row3 col1\" >yes</td>\n",
              "    </tr>\n",
              "    <tr>\n",
              "      <th id=\"T_fd08f_level0_row4\" class=\"row_heading level0 row4\" >7</th>\n",
              "      <td id=\"T_fd08f_row4_col0\" class=\"data row4 col0\" >False</td>\n",
              "      <td id=\"T_fd08f_row4_col1\" class=\"data row4 col1\" >no</td>\n",
              "    </tr>\n",
              "    <tr>\n",
              "      <th id=\"T_fd08f_level0_row5\" class=\"row_heading level0 row5\" >8</th>\n",
              "      <td id=\"T_fd08f_row5_col0\" class=\"data row5 col0\" >False</td>\n",
              "      <td id=\"T_fd08f_row5_col1\" class=\"data row5 col1\" >yes</td>\n",
              "    </tr>\n",
              "    <tr>\n",
              "      <th id=\"T_fd08f_level0_row6\" class=\"row_heading level0 row6\" >9</th>\n",
              "      <td id=\"T_fd08f_row6_col0\" class=\"data row6 col0\" >False</td>\n",
              "      <td id=\"T_fd08f_row6_col1\" class=\"data row6 col1\" >yes</td>\n",
              "    </tr>\n",
              "    <tr>\n",
              "      <th id=\"T_fd08f_level0_row7\" class=\"row_heading level0 row7\" >12</th>\n",
              "      <td id=\"T_fd08f_row7_col0\" class=\"data row7 col0\" >False</td>\n",
              "      <td id=\"T_fd08f_row7_col1\" class=\"data row7 col1\" >yes</td>\n",
              "    </tr>\n",
              "  </tbody>\n",
              "</table>\n"
            ]
          },
          "metadata": {}
        },
        {
          "output_type": "stream",
          "name": "stdout",
          "text": [
            "Entropy of windy - False = 0.811\n"
          ]
        },
        {
          "output_type": "display_data",
          "data": {
            "text/plain": [
              "<pandas.io.formats.style.Styler at 0x7d0795020760>"
            ],
            "text/html": [
              "<style type=\"text/css\">\n",
              "#T_d8e10 th {\n",
              "  background-color: lightgray;\n",
              "  border: 1px solid gray;\n",
              "  font-weight: bold;\n",
              "}\n",
              "#T_d8e10 td {\n",
              "  border: 1px solid gray;\n",
              "}\n",
              "#T_d8e10 tr:hover {\n",
              "  background-color: white;\n",
              "  border: 1.5px solid black;\n",
              "}\n",
              "#T_d8e10_row0_col0, #T_d8e10_row1_col0, #T_d8e10_row2_col0, #T_d8e10_row3_col0, #T_d8e10_row4_col0, #T_d8e10_row5_col0 {\n",
              "  width: 80px;\n",
              "}\n",
              "#T_d8e10_row0_col1, #T_d8e10_row1_col1, #T_d8e10_row5_col1 {\n",
              "  background-color: pink;\n",
              "  width: 80px;\n",
              "}\n",
              "#T_d8e10_row2_col1, #T_d8e10_row3_col1, #T_d8e10_row4_col1 {\n",
              "  background-color: lightgreen;\n",
              "  width: 80px;\n",
              "}\n",
              "</style>\n",
              "<table id=\"T_d8e10\" class=\"dataframe\">\n",
              "  <thead>\n",
              "    <tr>\n",
              "      <th class=\"blank level0\" >&nbsp;</th>\n",
              "      <th id=\"T_d8e10_level0_col0\" class=\"col_heading level0 col0\" >windy</th>\n",
              "      <th id=\"T_d8e10_level0_col1\" class=\"col_heading level0 col1\" >play</th>\n",
              "    </tr>\n",
              "  </thead>\n",
              "  <tbody>\n",
              "    <tr>\n",
              "      <th id=\"T_d8e10_level0_row0\" class=\"row_heading level0 row0\" >1</th>\n",
              "      <td id=\"T_d8e10_row0_col0\" class=\"data row0 col0\" >True</td>\n",
              "      <td id=\"T_d8e10_row0_col1\" class=\"data row0 col1\" >no</td>\n",
              "    </tr>\n",
              "    <tr>\n",
              "      <th id=\"T_d8e10_level0_row1\" class=\"row_heading level0 row1\" >5</th>\n",
              "      <td id=\"T_d8e10_row1_col0\" class=\"data row1 col0\" >True</td>\n",
              "      <td id=\"T_d8e10_row1_col1\" class=\"data row1 col1\" >no</td>\n",
              "    </tr>\n",
              "    <tr>\n",
              "      <th id=\"T_d8e10_level0_row2\" class=\"row_heading level0 row2\" >6</th>\n",
              "      <td id=\"T_d8e10_row2_col0\" class=\"data row2 col0\" >True</td>\n",
              "      <td id=\"T_d8e10_row2_col1\" class=\"data row2 col1\" >yes</td>\n",
              "    </tr>\n",
              "    <tr>\n",
              "      <th id=\"T_d8e10_level0_row3\" class=\"row_heading level0 row3\" >10</th>\n",
              "      <td id=\"T_d8e10_row3_col0\" class=\"data row3 col0\" >True</td>\n",
              "      <td id=\"T_d8e10_row3_col1\" class=\"data row3 col1\" >yes</td>\n",
              "    </tr>\n",
              "    <tr>\n",
              "      <th id=\"T_d8e10_level0_row4\" class=\"row_heading level0 row4\" >11</th>\n",
              "      <td id=\"T_d8e10_row4_col0\" class=\"data row4 col0\" >True</td>\n",
              "      <td id=\"T_d8e10_row4_col1\" class=\"data row4 col1\" >yes</td>\n",
              "    </tr>\n",
              "    <tr>\n",
              "      <th id=\"T_d8e10_level0_row5\" class=\"row_heading level0 row5\" >13</th>\n",
              "      <td id=\"T_d8e10_row5_col0\" class=\"data row5 col0\" >True</td>\n",
              "      <td id=\"T_d8e10_row5_col1\" class=\"data row5 col1\" >no</td>\n",
              "    </tr>\n",
              "  </tbody>\n",
              "</table>\n"
            ]
          },
          "metadata": {}
        },
        {
          "output_type": "stream",
          "name": "stdout",
          "text": [
            "Entropy of windy - True = 1.0\n",
            "Information Gain for windy = 0.048\n"
          ]
        }
      ]
    },
    {
      "cell_type": "code",
      "source": [
        "sunny = data[data['outlook'] == 'sunny']\n",
        "sunny.style.applymap(highlight)\\\n",
        "    .set_properties(subset=data.columns, **{'width': '100px'})\\\n",
        "    .set_table_styles([{'selector': 'th', 'props': [('background-color', 'lightgray'), ('border', '1px solid gray'),\n",
        "                                                    ('font-weight', 'bold')]},\n",
        "     {'selector': 'tr:hover', 'props': [('background-color', 'white'), ('border', '1.5px solid black')]}])"
      ],
      "metadata": {
        "colab": {
          "base_uri": "https://localhost:8080/",
          "height": 212
        },
        "id": "urt3JVB4Zacs",
        "outputId": "1302d04f-9d3c-48fb-f924-29128344cef0"
      },
      "execution_count": 12,
      "outputs": [
        {
          "output_type": "execute_result",
          "data": {
            "text/plain": [
              "<pandas.io.formats.style.Styler at 0x7d07950220b0>"
            ],
            "text/html": [
              "<style type=\"text/css\">\n",
              "#T_bd97d th {\n",
              "  background-color: lightgray;\n",
              "  border: 1px solid gray;\n",
              "  font-weight: bold;\n",
              "}\n",
              "#T_bd97d tr:hover {\n",
              "  background-color: white;\n",
              "  border: 1.5px solid black;\n",
              "}\n",
              "#T_bd97d_row0_col0, #T_bd97d_row0_col1, #T_bd97d_row0_col2, #T_bd97d_row0_col3, #T_bd97d_row1_col0, #T_bd97d_row1_col1, #T_bd97d_row1_col2, #T_bd97d_row1_col3, #T_bd97d_row2_col0, #T_bd97d_row2_col1, #T_bd97d_row2_col2, #T_bd97d_row2_col3, #T_bd97d_row3_col0, #T_bd97d_row3_col1, #T_bd97d_row3_col2, #T_bd97d_row3_col3, #T_bd97d_row4_col0, #T_bd97d_row4_col1, #T_bd97d_row4_col2, #T_bd97d_row4_col3 {\n",
              "  width: 100px;\n",
              "}\n",
              "#T_bd97d_row0_col4, #T_bd97d_row1_col4, #T_bd97d_row2_col4 {\n",
              "  background-color: pink;\n",
              "  width: 100px;\n",
              "}\n",
              "#T_bd97d_row3_col4, #T_bd97d_row4_col4 {\n",
              "  background-color: lightgreen;\n",
              "  width: 100px;\n",
              "}\n",
              "</style>\n",
              "<table id=\"T_bd97d\" class=\"dataframe\">\n",
              "  <thead>\n",
              "    <tr>\n",
              "      <th class=\"blank level0\" >&nbsp;</th>\n",
              "      <th id=\"T_bd97d_level0_col0\" class=\"col_heading level0 col0\" >outlook</th>\n",
              "      <th id=\"T_bd97d_level0_col1\" class=\"col_heading level0 col1\" >temp</th>\n",
              "      <th id=\"T_bd97d_level0_col2\" class=\"col_heading level0 col2\" >humidity</th>\n",
              "      <th id=\"T_bd97d_level0_col3\" class=\"col_heading level0 col3\" >windy</th>\n",
              "      <th id=\"T_bd97d_level0_col4\" class=\"col_heading level0 col4\" >play</th>\n",
              "    </tr>\n",
              "  </thead>\n",
              "  <tbody>\n",
              "    <tr>\n",
              "      <th id=\"T_bd97d_level0_row0\" class=\"row_heading level0 row0\" >0</th>\n",
              "      <td id=\"T_bd97d_row0_col0\" class=\"data row0 col0\" >sunny</td>\n",
              "      <td id=\"T_bd97d_row0_col1\" class=\"data row0 col1\" >hot</td>\n",
              "      <td id=\"T_bd97d_row0_col2\" class=\"data row0 col2\" >high</td>\n",
              "      <td id=\"T_bd97d_row0_col3\" class=\"data row0 col3\" >False</td>\n",
              "      <td id=\"T_bd97d_row0_col4\" class=\"data row0 col4\" >no</td>\n",
              "    </tr>\n",
              "    <tr>\n",
              "      <th id=\"T_bd97d_level0_row1\" class=\"row_heading level0 row1\" >1</th>\n",
              "      <td id=\"T_bd97d_row1_col0\" class=\"data row1 col0\" >sunny</td>\n",
              "      <td id=\"T_bd97d_row1_col1\" class=\"data row1 col1\" >hot</td>\n",
              "      <td id=\"T_bd97d_row1_col2\" class=\"data row1 col2\" >high</td>\n",
              "      <td id=\"T_bd97d_row1_col3\" class=\"data row1 col3\" >True</td>\n",
              "      <td id=\"T_bd97d_row1_col4\" class=\"data row1 col4\" >no</td>\n",
              "    </tr>\n",
              "    <tr>\n",
              "      <th id=\"T_bd97d_level0_row2\" class=\"row_heading level0 row2\" >7</th>\n",
              "      <td id=\"T_bd97d_row2_col0\" class=\"data row2 col0\" >sunny</td>\n",
              "      <td id=\"T_bd97d_row2_col1\" class=\"data row2 col1\" >mild</td>\n",
              "      <td id=\"T_bd97d_row2_col2\" class=\"data row2 col2\" >high</td>\n",
              "      <td id=\"T_bd97d_row2_col3\" class=\"data row2 col3\" >False</td>\n",
              "      <td id=\"T_bd97d_row2_col4\" class=\"data row2 col4\" >no</td>\n",
              "    </tr>\n",
              "    <tr>\n",
              "      <th id=\"T_bd97d_level0_row3\" class=\"row_heading level0 row3\" >8</th>\n",
              "      <td id=\"T_bd97d_row3_col0\" class=\"data row3 col0\" >sunny</td>\n",
              "      <td id=\"T_bd97d_row3_col1\" class=\"data row3 col1\" >cool</td>\n",
              "      <td id=\"T_bd97d_row3_col2\" class=\"data row3 col2\" >normal</td>\n",
              "      <td id=\"T_bd97d_row3_col3\" class=\"data row3 col3\" >False</td>\n",
              "      <td id=\"T_bd97d_row3_col4\" class=\"data row3 col4\" >yes</td>\n",
              "    </tr>\n",
              "    <tr>\n",
              "      <th id=\"T_bd97d_level0_row4\" class=\"row_heading level0 row4\" >10</th>\n",
              "      <td id=\"T_bd97d_row4_col0\" class=\"data row4 col0\" >sunny</td>\n",
              "      <td id=\"T_bd97d_row4_col1\" class=\"data row4 col1\" >mild</td>\n",
              "      <td id=\"T_bd97d_row4_col2\" class=\"data row4 col2\" >normal</td>\n",
              "      <td id=\"T_bd97d_row4_col3\" class=\"data row4 col3\" >True</td>\n",
              "      <td id=\"T_bd97d_row4_col4\" class=\"data row4 col4\" >yes</td>\n",
              "    </tr>\n",
              "  </tbody>\n",
              "</table>\n"
            ]
          },
          "metadata": {},
          "execution_count": 12
        }
      ]
    },
    {
      "cell_type": "code",
      "source": [
        "print(f'Entropy of the Sunny dataset: {find_entropy(sunny.play)}')"
      ],
      "metadata": {
        "colab": {
          "base_uri": "https://localhost:8080/"
        },
        "id": "7t7mocS1Zg21",
        "outputId": "f3f521d5-4aef-47ec-ffcf-834c80a7bc00"
      },
      "execution_count": 13,
      "outputs": [
        {
          "output_type": "stream",
          "name": "stdout",
          "text": [
            "Entropy of the Sunny dataset: 0.971\n"
          ]
        }
      ]
    },
    {
      "cell_type": "code",
      "source": [
        "entropy_and_infogain(sunny, 'temp')"
      ],
      "metadata": {
        "colab": {
          "base_uri": "https://localhost:8080/",
          "height": 348
        },
        "id": "ZTy5okWkZn51",
        "outputId": "7a117408-36de-47b9-f450-bf41dd5bde36"
      },
      "execution_count": 14,
      "outputs": [
        {
          "output_type": "display_data",
          "data": {
            "text/plain": [
              "<pandas.io.formats.style.Styler at 0x7d0795020190>"
            ],
            "text/html": [
              "<style type=\"text/css\">\n",
              "#T_02051 th {\n",
              "  background-color: lightgray;\n",
              "  border: 1px solid gray;\n",
              "  font-weight: bold;\n",
              "}\n",
              "#T_02051 td {\n",
              "  border: 1px solid gray;\n",
              "}\n",
              "#T_02051 tr:hover {\n",
              "  background-color: white;\n",
              "  border: 1.5px solid black;\n",
              "}\n",
              "#T_02051_row0_col0, #T_02051_row1_col0 {\n",
              "  width: 80px;\n",
              "}\n",
              "#T_02051_row0_col1, #T_02051_row1_col1 {\n",
              "  background-color: pink;\n",
              "  width: 80px;\n",
              "}\n",
              "</style>\n",
              "<table id=\"T_02051\" class=\"dataframe\">\n",
              "  <thead>\n",
              "    <tr>\n",
              "      <th class=\"blank level0\" >&nbsp;</th>\n",
              "      <th id=\"T_02051_level0_col0\" class=\"col_heading level0 col0\" >temp</th>\n",
              "      <th id=\"T_02051_level0_col1\" class=\"col_heading level0 col1\" >play</th>\n",
              "    </tr>\n",
              "  </thead>\n",
              "  <tbody>\n",
              "    <tr>\n",
              "      <th id=\"T_02051_level0_row0\" class=\"row_heading level0 row0\" >0</th>\n",
              "      <td id=\"T_02051_row0_col0\" class=\"data row0 col0\" >hot</td>\n",
              "      <td id=\"T_02051_row0_col1\" class=\"data row0 col1\" >no</td>\n",
              "    </tr>\n",
              "    <tr>\n",
              "      <th id=\"T_02051_level0_row1\" class=\"row_heading level0 row1\" >1</th>\n",
              "      <td id=\"T_02051_row1_col0\" class=\"data row1 col0\" >hot</td>\n",
              "      <td id=\"T_02051_row1_col1\" class=\"data row1 col1\" >no</td>\n",
              "    </tr>\n",
              "  </tbody>\n",
              "</table>\n"
            ]
          },
          "metadata": {}
        },
        {
          "output_type": "stream",
          "name": "stdout",
          "text": [
            "Entropy of temp - hot = 0.0\n"
          ]
        },
        {
          "output_type": "display_data",
          "data": {
            "text/plain": [
              "<pandas.io.formats.style.Styler at 0x7d07d02113c0>"
            ],
            "text/html": [
              "<style type=\"text/css\">\n",
              "#T_a5ec5 th {\n",
              "  background-color: lightgray;\n",
              "  border: 1px solid gray;\n",
              "  font-weight: bold;\n",
              "}\n",
              "#T_a5ec5 td {\n",
              "  border: 1px solid gray;\n",
              "}\n",
              "#T_a5ec5 tr:hover {\n",
              "  background-color: white;\n",
              "  border: 1.5px solid black;\n",
              "}\n",
              "#T_a5ec5_row0_col0, #T_a5ec5_row1_col0 {\n",
              "  width: 80px;\n",
              "}\n",
              "#T_a5ec5_row0_col1 {\n",
              "  background-color: pink;\n",
              "  width: 80px;\n",
              "}\n",
              "#T_a5ec5_row1_col1 {\n",
              "  background-color: lightgreen;\n",
              "  width: 80px;\n",
              "}\n",
              "</style>\n",
              "<table id=\"T_a5ec5\" class=\"dataframe\">\n",
              "  <thead>\n",
              "    <tr>\n",
              "      <th class=\"blank level0\" >&nbsp;</th>\n",
              "      <th id=\"T_a5ec5_level0_col0\" class=\"col_heading level0 col0\" >temp</th>\n",
              "      <th id=\"T_a5ec5_level0_col1\" class=\"col_heading level0 col1\" >play</th>\n",
              "    </tr>\n",
              "  </thead>\n",
              "  <tbody>\n",
              "    <tr>\n",
              "      <th id=\"T_a5ec5_level0_row0\" class=\"row_heading level0 row0\" >7</th>\n",
              "      <td id=\"T_a5ec5_row0_col0\" class=\"data row0 col0\" >mild</td>\n",
              "      <td id=\"T_a5ec5_row0_col1\" class=\"data row0 col1\" >no</td>\n",
              "    </tr>\n",
              "    <tr>\n",
              "      <th id=\"T_a5ec5_level0_row1\" class=\"row_heading level0 row1\" >10</th>\n",
              "      <td id=\"T_a5ec5_row1_col0\" class=\"data row1 col0\" >mild</td>\n",
              "      <td id=\"T_a5ec5_row1_col1\" class=\"data row1 col1\" >yes</td>\n",
              "    </tr>\n",
              "  </tbody>\n",
              "</table>\n"
            ]
          },
          "metadata": {}
        },
        {
          "output_type": "stream",
          "name": "stdout",
          "text": [
            "Entropy of temp - mild = 1.0\n"
          ]
        },
        {
          "output_type": "display_data",
          "data": {
            "text/plain": [
              "<pandas.io.formats.style.Styler at 0x7d07d0210e50>"
            ],
            "text/html": [
              "<style type=\"text/css\">\n",
              "#T_58428 th {\n",
              "  background-color: lightgray;\n",
              "  border: 1px solid gray;\n",
              "  font-weight: bold;\n",
              "}\n",
              "#T_58428 td {\n",
              "  border: 1px solid gray;\n",
              "}\n",
              "#T_58428 tr:hover {\n",
              "  background-color: white;\n",
              "  border: 1.5px solid black;\n",
              "}\n",
              "#T_58428_row0_col0 {\n",
              "  width: 80px;\n",
              "}\n",
              "#T_58428_row0_col1 {\n",
              "  background-color: lightgreen;\n",
              "  width: 80px;\n",
              "}\n",
              "</style>\n",
              "<table id=\"T_58428\" class=\"dataframe\">\n",
              "  <thead>\n",
              "    <tr>\n",
              "      <th class=\"blank level0\" >&nbsp;</th>\n",
              "      <th id=\"T_58428_level0_col0\" class=\"col_heading level0 col0\" >temp</th>\n",
              "      <th id=\"T_58428_level0_col1\" class=\"col_heading level0 col1\" >play</th>\n",
              "    </tr>\n",
              "  </thead>\n",
              "  <tbody>\n",
              "    <tr>\n",
              "      <th id=\"T_58428_level0_row0\" class=\"row_heading level0 row0\" >8</th>\n",
              "      <td id=\"T_58428_row0_col0\" class=\"data row0 col0\" >cool</td>\n",
              "      <td id=\"T_58428_row0_col1\" class=\"data row0 col1\" >yes</td>\n",
              "    </tr>\n",
              "  </tbody>\n",
              "</table>\n"
            ]
          },
          "metadata": {}
        },
        {
          "output_type": "stream",
          "name": "stdout",
          "text": [
            "Entropy of temp - cool = 0.0\n",
            "Information Gain for temp = 0.571\n"
          ]
        }
      ]
    },
    {
      "cell_type": "code",
      "source": [
        "entropy_and_infogain(sunny, 'humidity')"
      ],
      "metadata": {
        "colab": {
          "base_uri": "https://localhost:8080/",
          "height": 298
        },
        "id": "XZDy1EO5Zs3s",
        "outputId": "16975fe7-8cf0-4227-d670-aad2aca4164f"
      },
      "execution_count": 15,
      "outputs": [
        {
          "output_type": "display_data",
          "data": {
            "text/plain": [
              "<pandas.io.formats.style.Styler at 0x7d07950233a0>"
            ],
            "text/html": [
              "<style type=\"text/css\">\n",
              "#T_63ebe th {\n",
              "  background-color: lightgray;\n",
              "  border: 1px solid gray;\n",
              "  font-weight: bold;\n",
              "}\n",
              "#T_63ebe td {\n",
              "  border: 1px solid gray;\n",
              "}\n",
              "#T_63ebe tr:hover {\n",
              "  background-color: white;\n",
              "  border: 1.5px solid black;\n",
              "}\n",
              "#T_63ebe_row0_col0, #T_63ebe_row1_col0, #T_63ebe_row2_col0 {\n",
              "  width: 80px;\n",
              "}\n",
              "#T_63ebe_row0_col1, #T_63ebe_row1_col1, #T_63ebe_row2_col1 {\n",
              "  background-color: pink;\n",
              "  width: 80px;\n",
              "}\n",
              "</style>\n",
              "<table id=\"T_63ebe\" class=\"dataframe\">\n",
              "  <thead>\n",
              "    <tr>\n",
              "      <th class=\"blank level0\" >&nbsp;</th>\n",
              "      <th id=\"T_63ebe_level0_col0\" class=\"col_heading level0 col0\" >humidity</th>\n",
              "      <th id=\"T_63ebe_level0_col1\" class=\"col_heading level0 col1\" >play</th>\n",
              "    </tr>\n",
              "  </thead>\n",
              "  <tbody>\n",
              "    <tr>\n",
              "      <th id=\"T_63ebe_level0_row0\" class=\"row_heading level0 row0\" >0</th>\n",
              "      <td id=\"T_63ebe_row0_col0\" class=\"data row0 col0\" >high</td>\n",
              "      <td id=\"T_63ebe_row0_col1\" class=\"data row0 col1\" >no</td>\n",
              "    </tr>\n",
              "    <tr>\n",
              "      <th id=\"T_63ebe_level0_row1\" class=\"row_heading level0 row1\" >1</th>\n",
              "      <td id=\"T_63ebe_row1_col0\" class=\"data row1 col0\" >high</td>\n",
              "      <td id=\"T_63ebe_row1_col1\" class=\"data row1 col1\" >no</td>\n",
              "    </tr>\n",
              "    <tr>\n",
              "      <th id=\"T_63ebe_level0_row2\" class=\"row_heading level0 row2\" >7</th>\n",
              "      <td id=\"T_63ebe_row2_col0\" class=\"data row2 col0\" >high</td>\n",
              "      <td id=\"T_63ebe_row2_col1\" class=\"data row2 col1\" >no</td>\n",
              "    </tr>\n",
              "  </tbody>\n",
              "</table>\n"
            ]
          },
          "metadata": {}
        },
        {
          "output_type": "stream",
          "name": "stdout",
          "text": [
            "Entropy of humidity - high = 0.0\n"
          ]
        },
        {
          "output_type": "display_data",
          "data": {
            "text/plain": [
              "<pandas.io.formats.style.Styler at 0x7d07950233a0>"
            ],
            "text/html": [
              "<style type=\"text/css\">\n",
              "#T_c2d98 th {\n",
              "  background-color: lightgray;\n",
              "  border: 1px solid gray;\n",
              "  font-weight: bold;\n",
              "}\n",
              "#T_c2d98 td {\n",
              "  border: 1px solid gray;\n",
              "}\n",
              "#T_c2d98 tr:hover {\n",
              "  background-color: white;\n",
              "  border: 1.5px solid black;\n",
              "}\n",
              "#T_c2d98_row0_col0, #T_c2d98_row1_col0 {\n",
              "  width: 80px;\n",
              "}\n",
              "#T_c2d98_row0_col1, #T_c2d98_row1_col1 {\n",
              "  background-color: lightgreen;\n",
              "  width: 80px;\n",
              "}\n",
              "</style>\n",
              "<table id=\"T_c2d98\" class=\"dataframe\">\n",
              "  <thead>\n",
              "    <tr>\n",
              "      <th class=\"blank level0\" >&nbsp;</th>\n",
              "      <th id=\"T_c2d98_level0_col0\" class=\"col_heading level0 col0\" >humidity</th>\n",
              "      <th id=\"T_c2d98_level0_col1\" class=\"col_heading level0 col1\" >play</th>\n",
              "    </tr>\n",
              "  </thead>\n",
              "  <tbody>\n",
              "    <tr>\n",
              "      <th id=\"T_c2d98_level0_row0\" class=\"row_heading level0 row0\" >8</th>\n",
              "      <td id=\"T_c2d98_row0_col0\" class=\"data row0 col0\" >normal</td>\n",
              "      <td id=\"T_c2d98_row0_col1\" class=\"data row0 col1\" >yes</td>\n",
              "    </tr>\n",
              "    <tr>\n",
              "      <th id=\"T_c2d98_level0_row1\" class=\"row_heading level0 row1\" >10</th>\n",
              "      <td id=\"T_c2d98_row1_col0\" class=\"data row1 col0\" >normal</td>\n",
              "      <td id=\"T_c2d98_row1_col1\" class=\"data row1 col1\" >yes</td>\n",
              "    </tr>\n",
              "  </tbody>\n",
              "</table>\n"
            ]
          },
          "metadata": {}
        },
        {
          "output_type": "stream",
          "name": "stdout",
          "text": [
            "Entropy of humidity - normal = 0.0\n",
            "Information Gain for humidity = 0.971\n"
          ]
        }
      ]
    },
    {
      "cell_type": "code",
      "source": [
        "entropy_and_infogain(sunny, 'windy')"
      ],
      "metadata": {
        "colab": {
          "base_uri": "https://localhost:8080/",
          "height": 298
        },
        "id": "YMF3iMmZZxiE",
        "outputId": "79922acd-302f-4684-e865-000df2747f75"
      },
      "execution_count": 16,
      "outputs": [
        {
          "output_type": "display_data",
          "data": {
            "text/plain": [
              "<pandas.io.formats.style.Styler at 0x7d0795022410>"
            ],
            "text/html": [
              "<style type=\"text/css\">\n",
              "#T_e39ee th {\n",
              "  background-color: lightgray;\n",
              "  border: 1px solid gray;\n",
              "  font-weight: bold;\n",
              "}\n",
              "#T_e39ee td {\n",
              "  border: 1px solid gray;\n",
              "}\n",
              "#T_e39ee tr:hover {\n",
              "  background-color: white;\n",
              "  border: 1.5px solid black;\n",
              "}\n",
              "#T_e39ee_row0_col0, #T_e39ee_row1_col0, #T_e39ee_row2_col0 {\n",
              "  width: 80px;\n",
              "}\n",
              "#T_e39ee_row0_col1, #T_e39ee_row1_col1 {\n",
              "  background-color: pink;\n",
              "  width: 80px;\n",
              "}\n",
              "#T_e39ee_row2_col1 {\n",
              "  background-color: lightgreen;\n",
              "  width: 80px;\n",
              "}\n",
              "</style>\n",
              "<table id=\"T_e39ee\" class=\"dataframe\">\n",
              "  <thead>\n",
              "    <tr>\n",
              "      <th class=\"blank level0\" >&nbsp;</th>\n",
              "      <th id=\"T_e39ee_level0_col0\" class=\"col_heading level0 col0\" >windy</th>\n",
              "      <th id=\"T_e39ee_level0_col1\" class=\"col_heading level0 col1\" >play</th>\n",
              "    </tr>\n",
              "  </thead>\n",
              "  <tbody>\n",
              "    <tr>\n",
              "      <th id=\"T_e39ee_level0_row0\" class=\"row_heading level0 row0\" >0</th>\n",
              "      <td id=\"T_e39ee_row0_col0\" class=\"data row0 col0\" >False</td>\n",
              "      <td id=\"T_e39ee_row0_col1\" class=\"data row0 col1\" >no</td>\n",
              "    </tr>\n",
              "    <tr>\n",
              "      <th id=\"T_e39ee_level0_row1\" class=\"row_heading level0 row1\" >7</th>\n",
              "      <td id=\"T_e39ee_row1_col0\" class=\"data row1 col0\" >False</td>\n",
              "      <td id=\"T_e39ee_row1_col1\" class=\"data row1 col1\" >no</td>\n",
              "    </tr>\n",
              "    <tr>\n",
              "      <th id=\"T_e39ee_level0_row2\" class=\"row_heading level0 row2\" >8</th>\n",
              "      <td id=\"T_e39ee_row2_col0\" class=\"data row2 col0\" >False</td>\n",
              "      <td id=\"T_e39ee_row2_col1\" class=\"data row2 col1\" >yes</td>\n",
              "    </tr>\n",
              "  </tbody>\n",
              "</table>\n"
            ]
          },
          "metadata": {}
        },
        {
          "output_type": "stream",
          "name": "stdout",
          "text": [
            "Entropy of windy - False = 0.918\n"
          ]
        },
        {
          "output_type": "display_data",
          "data": {
            "text/plain": [
              "<pandas.io.formats.style.Styler at 0x7d0795022e00>"
            ],
            "text/html": [
              "<style type=\"text/css\">\n",
              "#T_86393 th {\n",
              "  background-color: lightgray;\n",
              "  border: 1px solid gray;\n",
              "  font-weight: bold;\n",
              "}\n",
              "#T_86393 td {\n",
              "  border: 1px solid gray;\n",
              "}\n",
              "#T_86393 tr:hover {\n",
              "  background-color: white;\n",
              "  border: 1.5px solid black;\n",
              "}\n",
              "#T_86393_row0_col0, #T_86393_row1_col0 {\n",
              "  width: 80px;\n",
              "}\n",
              "#T_86393_row0_col1 {\n",
              "  background-color: pink;\n",
              "  width: 80px;\n",
              "}\n",
              "#T_86393_row1_col1 {\n",
              "  background-color: lightgreen;\n",
              "  width: 80px;\n",
              "}\n",
              "</style>\n",
              "<table id=\"T_86393\" class=\"dataframe\">\n",
              "  <thead>\n",
              "    <tr>\n",
              "      <th class=\"blank level0\" >&nbsp;</th>\n",
              "      <th id=\"T_86393_level0_col0\" class=\"col_heading level0 col0\" >windy</th>\n",
              "      <th id=\"T_86393_level0_col1\" class=\"col_heading level0 col1\" >play</th>\n",
              "    </tr>\n",
              "  </thead>\n",
              "  <tbody>\n",
              "    <tr>\n",
              "      <th id=\"T_86393_level0_row0\" class=\"row_heading level0 row0\" >1</th>\n",
              "      <td id=\"T_86393_row0_col0\" class=\"data row0 col0\" >True</td>\n",
              "      <td id=\"T_86393_row0_col1\" class=\"data row0 col1\" >no</td>\n",
              "    </tr>\n",
              "    <tr>\n",
              "      <th id=\"T_86393_level0_row1\" class=\"row_heading level0 row1\" >10</th>\n",
              "      <td id=\"T_86393_row1_col0\" class=\"data row1 col0\" >True</td>\n",
              "      <td id=\"T_86393_row1_col1\" class=\"data row1 col1\" >yes</td>\n",
              "    </tr>\n",
              "  </tbody>\n",
              "</table>\n"
            ]
          },
          "metadata": {}
        },
        {
          "output_type": "stream",
          "name": "stdout",
          "text": [
            "Entropy of windy - True = 1.0\n",
            "Information Gain for windy = 0.02\n"
          ]
        }
      ]
    },
    {
      "cell_type": "code",
      "source": [
        "rainy = data[data['outlook'] == 'rainy']\n",
        "rainy.style.applymap(highlight)\\\n",
        "    .set_properties(subset=data.columns, **{'width': '100px'})\\\n",
        "    .set_table_styles([{'selector': 'th', 'props': [('background-color', 'lightgray'), ('border', '1px solid gray'),\n",
        "                                                    ('font-weight', 'bold')]},\n",
        "     {'selector': 'tr:hover', 'props': [('background-color', 'white'), ('border', '1.5px solid black')]}])"
      ],
      "metadata": {
        "colab": {
          "base_uri": "https://localhost:8080/",
          "height": 212
        },
        "id": "v1wDn3a1Z2Zd",
        "outputId": "0daf2138-02f7-477e-8b48-ac5859544641"
      },
      "execution_count": 18,
      "outputs": [
        {
          "output_type": "execute_result",
          "data": {
            "text/plain": [
              "<pandas.io.formats.style.Styler at 0x7d0795022410>"
            ],
            "text/html": [
              "<style type=\"text/css\">\n",
              "#T_a04ae th {\n",
              "  background-color: lightgray;\n",
              "  border: 1px solid gray;\n",
              "  font-weight: bold;\n",
              "}\n",
              "#T_a04ae tr:hover {\n",
              "  background-color: white;\n",
              "  border: 1.5px solid black;\n",
              "}\n",
              "#T_a04ae_row0_col0, #T_a04ae_row0_col1, #T_a04ae_row0_col2, #T_a04ae_row0_col3, #T_a04ae_row1_col0, #T_a04ae_row1_col1, #T_a04ae_row1_col2, #T_a04ae_row1_col3, #T_a04ae_row2_col0, #T_a04ae_row2_col1, #T_a04ae_row2_col2, #T_a04ae_row2_col3, #T_a04ae_row3_col0, #T_a04ae_row3_col1, #T_a04ae_row3_col2, #T_a04ae_row3_col3, #T_a04ae_row4_col0, #T_a04ae_row4_col1, #T_a04ae_row4_col2, #T_a04ae_row4_col3 {\n",
              "  width: 100px;\n",
              "}\n",
              "#T_a04ae_row0_col4, #T_a04ae_row1_col4, #T_a04ae_row3_col4 {\n",
              "  background-color: lightgreen;\n",
              "  width: 100px;\n",
              "}\n",
              "#T_a04ae_row2_col4, #T_a04ae_row4_col4 {\n",
              "  background-color: pink;\n",
              "  width: 100px;\n",
              "}\n",
              "</style>\n",
              "<table id=\"T_a04ae\" class=\"dataframe\">\n",
              "  <thead>\n",
              "    <tr>\n",
              "      <th class=\"blank level0\" >&nbsp;</th>\n",
              "      <th id=\"T_a04ae_level0_col0\" class=\"col_heading level0 col0\" >outlook</th>\n",
              "      <th id=\"T_a04ae_level0_col1\" class=\"col_heading level0 col1\" >temp</th>\n",
              "      <th id=\"T_a04ae_level0_col2\" class=\"col_heading level0 col2\" >humidity</th>\n",
              "      <th id=\"T_a04ae_level0_col3\" class=\"col_heading level0 col3\" >windy</th>\n",
              "      <th id=\"T_a04ae_level0_col4\" class=\"col_heading level0 col4\" >play</th>\n",
              "    </tr>\n",
              "  </thead>\n",
              "  <tbody>\n",
              "    <tr>\n",
              "      <th id=\"T_a04ae_level0_row0\" class=\"row_heading level0 row0\" >3</th>\n",
              "      <td id=\"T_a04ae_row0_col0\" class=\"data row0 col0\" >rainy</td>\n",
              "      <td id=\"T_a04ae_row0_col1\" class=\"data row0 col1\" >mild</td>\n",
              "      <td id=\"T_a04ae_row0_col2\" class=\"data row0 col2\" >high</td>\n",
              "      <td id=\"T_a04ae_row0_col3\" class=\"data row0 col3\" >False</td>\n",
              "      <td id=\"T_a04ae_row0_col4\" class=\"data row0 col4\" >yes</td>\n",
              "    </tr>\n",
              "    <tr>\n",
              "      <th id=\"T_a04ae_level0_row1\" class=\"row_heading level0 row1\" >4</th>\n",
              "      <td id=\"T_a04ae_row1_col0\" class=\"data row1 col0\" >rainy</td>\n",
              "      <td id=\"T_a04ae_row1_col1\" class=\"data row1 col1\" >cool</td>\n",
              "      <td id=\"T_a04ae_row1_col2\" class=\"data row1 col2\" >normal</td>\n",
              "      <td id=\"T_a04ae_row1_col3\" class=\"data row1 col3\" >False</td>\n",
              "      <td id=\"T_a04ae_row1_col4\" class=\"data row1 col4\" >yes</td>\n",
              "    </tr>\n",
              "    <tr>\n",
              "      <th id=\"T_a04ae_level0_row2\" class=\"row_heading level0 row2\" >5</th>\n",
              "      <td id=\"T_a04ae_row2_col0\" class=\"data row2 col0\" >rainy</td>\n",
              "      <td id=\"T_a04ae_row2_col1\" class=\"data row2 col1\" >cool</td>\n",
              "      <td id=\"T_a04ae_row2_col2\" class=\"data row2 col2\" >normal</td>\n",
              "      <td id=\"T_a04ae_row2_col3\" class=\"data row2 col3\" >True</td>\n",
              "      <td id=\"T_a04ae_row2_col4\" class=\"data row2 col4\" >no</td>\n",
              "    </tr>\n",
              "    <tr>\n",
              "      <th id=\"T_a04ae_level0_row3\" class=\"row_heading level0 row3\" >9</th>\n",
              "      <td id=\"T_a04ae_row3_col0\" class=\"data row3 col0\" >rainy</td>\n",
              "      <td id=\"T_a04ae_row3_col1\" class=\"data row3 col1\" >mild</td>\n",
              "      <td id=\"T_a04ae_row3_col2\" class=\"data row3 col2\" >normal</td>\n",
              "      <td id=\"T_a04ae_row3_col3\" class=\"data row3 col3\" >False</td>\n",
              "      <td id=\"T_a04ae_row3_col4\" class=\"data row3 col4\" >yes</td>\n",
              "    </tr>\n",
              "    <tr>\n",
              "      <th id=\"T_a04ae_level0_row4\" class=\"row_heading level0 row4\" >13</th>\n",
              "      <td id=\"T_a04ae_row4_col0\" class=\"data row4 col0\" >rainy</td>\n",
              "      <td id=\"T_a04ae_row4_col1\" class=\"data row4 col1\" >mild</td>\n",
              "      <td id=\"T_a04ae_row4_col2\" class=\"data row4 col2\" >high</td>\n",
              "      <td id=\"T_a04ae_row4_col3\" class=\"data row4 col3\" >True</td>\n",
              "      <td id=\"T_a04ae_row4_col4\" class=\"data row4 col4\" >no</td>\n",
              "    </tr>\n",
              "  </tbody>\n",
              "</table>\n"
            ]
          },
          "metadata": {},
          "execution_count": 18
        }
      ]
    },
    {
      "cell_type": "code",
      "source": [
        "print(f'Entropy of the Rainy dataset: {find_entropy(rainy.play)}')"
      ],
      "metadata": {
        "colab": {
          "base_uri": "https://localhost:8080/"
        },
        "id": "5-pqDgCwaLKc",
        "outputId": "fe93484f-4482-4fe0-d965-2f4820232a4d"
      },
      "execution_count": 19,
      "outputs": [
        {
          "output_type": "stream",
          "name": "stdout",
          "text": [
            "Entropy of the Rainy dataset: 0.971\n"
          ]
        }
      ]
    },
    {
      "cell_type": "code",
      "source": [
        "entropy_and_infogain(rainy, 'temp')"
      ],
      "metadata": {
        "colab": {
          "base_uri": "https://localhost:8080/",
          "height": 298
        },
        "id": "G1LlWC3VaOJN",
        "outputId": "1ccb03a7-528a-43d9-9d5a-7b534b79487f"
      },
      "execution_count": 20,
      "outputs": [
        {
          "output_type": "display_data",
          "data": {
            "text/plain": [
              "<pandas.io.formats.style.Styler at 0x7d0795022cb0>"
            ],
            "text/html": [
              "<style type=\"text/css\">\n",
              "#T_512d3 th {\n",
              "  background-color: lightgray;\n",
              "  border: 1px solid gray;\n",
              "  font-weight: bold;\n",
              "}\n",
              "#T_512d3 td {\n",
              "  border: 1px solid gray;\n",
              "}\n",
              "#T_512d3 tr:hover {\n",
              "  background-color: white;\n",
              "  border: 1.5px solid black;\n",
              "}\n",
              "#T_512d3_row0_col0, #T_512d3_row1_col0, #T_512d3_row2_col0 {\n",
              "  width: 80px;\n",
              "}\n",
              "#T_512d3_row0_col1, #T_512d3_row1_col1 {\n",
              "  background-color: lightgreen;\n",
              "  width: 80px;\n",
              "}\n",
              "#T_512d3_row2_col1 {\n",
              "  background-color: pink;\n",
              "  width: 80px;\n",
              "}\n",
              "</style>\n",
              "<table id=\"T_512d3\" class=\"dataframe\">\n",
              "  <thead>\n",
              "    <tr>\n",
              "      <th class=\"blank level0\" >&nbsp;</th>\n",
              "      <th id=\"T_512d3_level0_col0\" class=\"col_heading level0 col0\" >temp</th>\n",
              "      <th id=\"T_512d3_level0_col1\" class=\"col_heading level0 col1\" >play</th>\n",
              "    </tr>\n",
              "  </thead>\n",
              "  <tbody>\n",
              "    <tr>\n",
              "      <th id=\"T_512d3_level0_row0\" class=\"row_heading level0 row0\" >3</th>\n",
              "      <td id=\"T_512d3_row0_col0\" class=\"data row0 col0\" >mild</td>\n",
              "      <td id=\"T_512d3_row0_col1\" class=\"data row0 col1\" >yes</td>\n",
              "    </tr>\n",
              "    <tr>\n",
              "      <th id=\"T_512d3_level0_row1\" class=\"row_heading level0 row1\" >9</th>\n",
              "      <td id=\"T_512d3_row1_col0\" class=\"data row1 col0\" >mild</td>\n",
              "      <td id=\"T_512d3_row1_col1\" class=\"data row1 col1\" >yes</td>\n",
              "    </tr>\n",
              "    <tr>\n",
              "      <th id=\"T_512d3_level0_row2\" class=\"row_heading level0 row2\" >13</th>\n",
              "      <td id=\"T_512d3_row2_col0\" class=\"data row2 col0\" >mild</td>\n",
              "      <td id=\"T_512d3_row2_col1\" class=\"data row2 col1\" >no</td>\n",
              "    </tr>\n",
              "  </tbody>\n",
              "</table>\n"
            ]
          },
          "metadata": {}
        },
        {
          "output_type": "stream",
          "name": "stdout",
          "text": [
            "Entropy of temp - mild = 0.918\n"
          ]
        },
        {
          "output_type": "display_data",
          "data": {
            "text/plain": [
              "<pandas.io.formats.style.Styler at 0x7d07950a9660>"
            ],
            "text/html": [
              "<style type=\"text/css\">\n",
              "#T_7b1d9 th {\n",
              "  background-color: lightgray;\n",
              "  border: 1px solid gray;\n",
              "  font-weight: bold;\n",
              "}\n",
              "#T_7b1d9 td {\n",
              "  border: 1px solid gray;\n",
              "}\n",
              "#T_7b1d9 tr:hover {\n",
              "  background-color: white;\n",
              "  border: 1.5px solid black;\n",
              "}\n",
              "#T_7b1d9_row0_col0, #T_7b1d9_row1_col0 {\n",
              "  width: 80px;\n",
              "}\n",
              "#T_7b1d9_row0_col1 {\n",
              "  background-color: lightgreen;\n",
              "  width: 80px;\n",
              "}\n",
              "#T_7b1d9_row1_col1 {\n",
              "  background-color: pink;\n",
              "  width: 80px;\n",
              "}\n",
              "</style>\n",
              "<table id=\"T_7b1d9\" class=\"dataframe\">\n",
              "  <thead>\n",
              "    <tr>\n",
              "      <th class=\"blank level0\" >&nbsp;</th>\n",
              "      <th id=\"T_7b1d9_level0_col0\" class=\"col_heading level0 col0\" >temp</th>\n",
              "      <th id=\"T_7b1d9_level0_col1\" class=\"col_heading level0 col1\" >play</th>\n",
              "    </tr>\n",
              "  </thead>\n",
              "  <tbody>\n",
              "    <tr>\n",
              "      <th id=\"T_7b1d9_level0_row0\" class=\"row_heading level0 row0\" >4</th>\n",
              "      <td id=\"T_7b1d9_row0_col0\" class=\"data row0 col0\" >cool</td>\n",
              "      <td id=\"T_7b1d9_row0_col1\" class=\"data row0 col1\" >yes</td>\n",
              "    </tr>\n",
              "    <tr>\n",
              "      <th id=\"T_7b1d9_level0_row1\" class=\"row_heading level0 row1\" >5</th>\n",
              "      <td id=\"T_7b1d9_row1_col0\" class=\"data row1 col0\" >cool</td>\n",
              "      <td id=\"T_7b1d9_row1_col1\" class=\"data row1 col1\" >no</td>\n",
              "    </tr>\n",
              "  </tbody>\n",
              "</table>\n"
            ]
          },
          "metadata": {}
        },
        {
          "output_type": "stream",
          "name": "stdout",
          "text": [
            "Entropy of temp - cool = 1.0\n",
            "Information Gain for temp = 0.02\n"
          ]
        }
      ]
    },
    {
      "cell_type": "code",
      "source": [
        "entropy_and_infogain(rainy, 'humidity')"
      ],
      "metadata": {
        "colab": {
          "base_uri": "https://localhost:8080/",
          "height": 298
        },
        "id": "iGM7eAQjaRZl",
        "outputId": "065d8fff-e1b0-4734-dfb2-3bae17dee764"
      },
      "execution_count": 21,
      "outputs": [
        {
          "output_type": "display_data",
          "data": {
            "text/plain": [
              "<pandas.io.formats.style.Styler at 0x7d07950219c0>"
            ],
            "text/html": [
              "<style type=\"text/css\">\n",
              "#T_7d506 th {\n",
              "  background-color: lightgray;\n",
              "  border: 1px solid gray;\n",
              "  font-weight: bold;\n",
              "}\n",
              "#T_7d506 td {\n",
              "  border: 1px solid gray;\n",
              "}\n",
              "#T_7d506 tr:hover {\n",
              "  background-color: white;\n",
              "  border: 1.5px solid black;\n",
              "}\n",
              "#T_7d506_row0_col0, #T_7d506_row1_col0 {\n",
              "  width: 80px;\n",
              "}\n",
              "#T_7d506_row0_col1 {\n",
              "  background-color: lightgreen;\n",
              "  width: 80px;\n",
              "}\n",
              "#T_7d506_row1_col1 {\n",
              "  background-color: pink;\n",
              "  width: 80px;\n",
              "}\n",
              "</style>\n",
              "<table id=\"T_7d506\" class=\"dataframe\">\n",
              "  <thead>\n",
              "    <tr>\n",
              "      <th class=\"blank level0\" >&nbsp;</th>\n",
              "      <th id=\"T_7d506_level0_col0\" class=\"col_heading level0 col0\" >humidity</th>\n",
              "      <th id=\"T_7d506_level0_col1\" class=\"col_heading level0 col1\" >play</th>\n",
              "    </tr>\n",
              "  </thead>\n",
              "  <tbody>\n",
              "    <tr>\n",
              "      <th id=\"T_7d506_level0_row0\" class=\"row_heading level0 row0\" >3</th>\n",
              "      <td id=\"T_7d506_row0_col0\" class=\"data row0 col0\" >high</td>\n",
              "      <td id=\"T_7d506_row0_col1\" class=\"data row0 col1\" >yes</td>\n",
              "    </tr>\n",
              "    <tr>\n",
              "      <th id=\"T_7d506_level0_row1\" class=\"row_heading level0 row1\" >13</th>\n",
              "      <td id=\"T_7d506_row1_col0\" class=\"data row1 col0\" >high</td>\n",
              "      <td id=\"T_7d506_row1_col1\" class=\"data row1 col1\" >no</td>\n",
              "    </tr>\n",
              "  </tbody>\n",
              "</table>\n"
            ]
          },
          "metadata": {}
        },
        {
          "output_type": "stream",
          "name": "stdout",
          "text": [
            "Entropy of humidity - high = 1.0\n"
          ]
        },
        {
          "output_type": "display_data",
          "data": {
            "text/plain": [
              "<pandas.io.formats.style.Styler at 0x7d07950a8880>"
            ],
            "text/html": [
              "<style type=\"text/css\">\n",
              "#T_c8645 th {\n",
              "  background-color: lightgray;\n",
              "  border: 1px solid gray;\n",
              "  font-weight: bold;\n",
              "}\n",
              "#T_c8645 td {\n",
              "  border: 1px solid gray;\n",
              "}\n",
              "#T_c8645 tr:hover {\n",
              "  background-color: white;\n",
              "  border: 1.5px solid black;\n",
              "}\n",
              "#T_c8645_row0_col0, #T_c8645_row1_col0, #T_c8645_row2_col0 {\n",
              "  width: 80px;\n",
              "}\n",
              "#T_c8645_row0_col1, #T_c8645_row2_col1 {\n",
              "  background-color: lightgreen;\n",
              "  width: 80px;\n",
              "}\n",
              "#T_c8645_row1_col1 {\n",
              "  background-color: pink;\n",
              "  width: 80px;\n",
              "}\n",
              "</style>\n",
              "<table id=\"T_c8645\" class=\"dataframe\">\n",
              "  <thead>\n",
              "    <tr>\n",
              "      <th class=\"blank level0\" >&nbsp;</th>\n",
              "      <th id=\"T_c8645_level0_col0\" class=\"col_heading level0 col0\" >humidity</th>\n",
              "      <th id=\"T_c8645_level0_col1\" class=\"col_heading level0 col1\" >play</th>\n",
              "    </tr>\n",
              "  </thead>\n",
              "  <tbody>\n",
              "    <tr>\n",
              "      <th id=\"T_c8645_level0_row0\" class=\"row_heading level0 row0\" >4</th>\n",
              "      <td id=\"T_c8645_row0_col0\" class=\"data row0 col0\" >normal</td>\n",
              "      <td id=\"T_c8645_row0_col1\" class=\"data row0 col1\" >yes</td>\n",
              "    </tr>\n",
              "    <tr>\n",
              "      <th id=\"T_c8645_level0_row1\" class=\"row_heading level0 row1\" >5</th>\n",
              "      <td id=\"T_c8645_row1_col0\" class=\"data row1 col0\" >normal</td>\n",
              "      <td id=\"T_c8645_row1_col1\" class=\"data row1 col1\" >no</td>\n",
              "    </tr>\n",
              "    <tr>\n",
              "      <th id=\"T_c8645_level0_row2\" class=\"row_heading level0 row2\" >9</th>\n",
              "      <td id=\"T_c8645_row2_col0\" class=\"data row2 col0\" >normal</td>\n",
              "      <td id=\"T_c8645_row2_col1\" class=\"data row2 col1\" >yes</td>\n",
              "    </tr>\n",
              "  </tbody>\n",
              "</table>\n"
            ]
          },
          "metadata": {}
        },
        {
          "output_type": "stream",
          "name": "stdout",
          "text": [
            "Entropy of humidity - normal = 0.918\n",
            "Information Gain for humidity = 0.02\n"
          ]
        }
      ]
    },
    {
      "cell_type": "code",
      "source": [
        "entropy_and_infogain(rainy, 'windy')"
      ],
      "metadata": {
        "colab": {
          "base_uri": "https://localhost:8080/",
          "height": 298
        },
        "id": "V2s3Yb8haW8E",
        "outputId": "199c761a-8610-4e90-c28e-5ebe5b1944ae"
      },
      "execution_count": 22,
      "outputs": [
        {
          "output_type": "display_data",
          "data": {
            "text/plain": [
              "<pandas.io.formats.style.Styler at 0x7d07950a8a60>"
            ],
            "text/html": [
              "<style type=\"text/css\">\n",
              "#T_c6447 th {\n",
              "  background-color: lightgray;\n",
              "  border: 1px solid gray;\n",
              "  font-weight: bold;\n",
              "}\n",
              "#T_c6447 td {\n",
              "  border: 1px solid gray;\n",
              "}\n",
              "#T_c6447 tr:hover {\n",
              "  background-color: white;\n",
              "  border: 1.5px solid black;\n",
              "}\n",
              "#T_c6447_row0_col0, #T_c6447_row1_col0, #T_c6447_row2_col0 {\n",
              "  width: 80px;\n",
              "}\n",
              "#T_c6447_row0_col1, #T_c6447_row1_col1, #T_c6447_row2_col1 {\n",
              "  background-color: lightgreen;\n",
              "  width: 80px;\n",
              "}\n",
              "</style>\n",
              "<table id=\"T_c6447\" class=\"dataframe\">\n",
              "  <thead>\n",
              "    <tr>\n",
              "      <th class=\"blank level0\" >&nbsp;</th>\n",
              "      <th id=\"T_c6447_level0_col0\" class=\"col_heading level0 col0\" >windy</th>\n",
              "      <th id=\"T_c6447_level0_col1\" class=\"col_heading level0 col1\" >play</th>\n",
              "    </tr>\n",
              "  </thead>\n",
              "  <tbody>\n",
              "    <tr>\n",
              "      <th id=\"T_c6447_level0_row0\" class=\"row_heading level0 row0\" >3</th>\n",
              "      <td id=\"T_c6447_row0_col0\" class=\"data row0 col0\" >False</td>\n",
              "      <td id=\"T_c6447_row0_col1\" class=\"data row0 col1\" >yes</td>\n",
              "    </tr>\n",
              "    <tr>\n",
              "      <th id=\"T_c6447_level0_row1\" class=\"row_heading level0 row1\" >4</th>\n",
              "      <td id=\"T_c6447_row1_col0\" class=\"data row1 col0\" >False</td>\n",
              "      <td id=\"T_c6447_row1_col1\" class=\"data row1 col1\" >yes</td>\n",
              "    </tr>\n",
              "    <tr>\n",
              "      <th id=\"T_c6447_level0_row2\" class=\"row_heading level0 row2\" >9</th>\n",
              "      <td id=\"T_c6447_row2_col0\" class=\"data row2 col0\" >False</td>\n",
              "      <td id=\"T_c6447_row2_col1\" class=\"data row2 col1\" >yes</td>\n",
              "    </tr>\n",
              "  </tbody>\n",
              "</table>\n"
            ]
          },
          "metadata": {}
        },
        {
          "output_type": "stream",
          "name": "stdout",
          "text": [
            "Entropy of windy - False = 0.0\n"
          ]
        },
        {
          "output_type": "display_data",
          "data": {
            "text/plain": [
              "<pandas.io.formats.style.Styler at 0x7d0795020be0>"
            ],
            "text/html": [
              "<style type=\"text/css\">\n",
              "#T_98dd7 th {\n",
              "  background-color: lightgray;\n",
              "  border: 1px solid gray;\n",
              "  font-weight: bold;\n",
              "}\n",
              "#T_98dd7 td {\n",
              "  border: 1px solid gray;\n",
              "}\n",
              "#T_98dd7 tr:hover {\n",
              "  background-color: white;\n",
              "  border: 1.5px solid black;\n",
              "}\n",
              "#T_98dd7_row0_col0, #T_98dd7_row1_col0 {\n",
              "  width: 80px;\n",
              "}\n",
              "#T_98dd7_row0_col1, #T_98dd7_row1_col1 {\n",
              "  background-color: pink;\n",
              "  width: 80px;\n",
              "}\n",
              "</style>\n",
              "<table id=\"T_98dd7\" class=\"dataframe\">\n",
              "  <thead>\n",
              "    <tr>\n",
              "      <th class=\"blank level0\" >&nbsp;</th>\n",
              "      <th id=\"T_98dd7_level0_col0\" class=\"col_heading level0 col0\" >windy</th>\n",
              "      <th id=\"T_98dd7_level0_col1\" class=\"col_heading level0 col1\" >play</th>\n",
              "    </tr>\n",
              "  </thead>\n",
              "  <tbody>\n",
              "    <tr>\n",
              "      <th id=\"T_98dd7_level0_row0\" class=\"row_heading level0 row0\" >5</th>\n",
              "      <td id=\"T_98dd7_row0_col0\" class=\"data row0 col0\" >True</td>\n",
              "      <td id=\"T_98dd7_row0_col1\" class=\"data row0 col1\" >no</td>\n",
              "    </tr>\n",
              "    <tr>\n",
              "      <th id=\"T_98dd7_level0_row1\" class=\"row_heading level0 row1\" >13</th>\n",
              "      <td id=\"T_98dd7_row1_col0\" class=\"data row1 col0\" >True</td>\n",
              "      <td id=\"T_98dd7_row1_col1\" class=\"data row1 col1\" >no</td>\n",
              "    </tr>\n",
              "  </tbody>\n",
              "</table>\n"
            ]
          },
          "metadata": {}
        },
        {
          "output_type": "stream",
          "name": "stdout",
          "text": [
            "Entropy of windy - True = 0.0\n",
            "Information Gain for windy = 0.971\n"
          ]
        }
      ]
    }
  ]
}
