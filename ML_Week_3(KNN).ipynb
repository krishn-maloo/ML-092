{
  "nbformat": 4,
  "nbformat_minor": 0,
  "metadata": {
    "colab": {
      "provenance": [],
      "include_colab_link": true
    },
    "kernelspec": {
      "name": "python3",
      "display_name": "Python 3"
    },
    "language_info": {
      "name": "python"
    }
  },
  "cells": [
    {
      "cell_type": "markdown",
      "metadata": {
        "id": "view-in-github",
        "colab_type": "text"
      },
      "source": [
        "<a href=\"https://colab.research.google.com/github/krishn-maloo/ML-092/blob/main/ML_Week_3(KNN).ipynb\" target=\"_parent\"><img src=\"https://colab.research.google.com/assets/colab-badge.svg\" alt=\"Open In Colab\"/></a>"
      ]
    },
    {
      "cell_type": "code",
      "execution_count": null,
      "metadata": {
        "id": "VUadkuX4plKZ"
      },
      "outputs": [],
      "source": [
        "import numpy as np\n",
        "import pandas as pd\n",
        "import matplotlib.pyplot as plt\n",
        "import plotly.express as px\n",
        "import seaborn as sns\n",
        "\n",
        "iris = pd.read_csv(\"/content/Iris.csv\")\n",
        "iris.drop('Id',inplace=True,axis=1)"
      ]
    },
    {
      "cell_type": "code",
      "source": [
        "iris.head().style.background_gradient(sns.color_palette(\"YlOrBr\", as_cmap=True))"
      ],
      "metadata": {
        "id": "pspESz5zqUXj"
      },
      "execution_count": null,
      "outputs": []
    },
    {
      "cell_type": "code",
      "source": [
        "X = iris.iloc[:,:-1]\n",
        "y = iris.iloc[:,-1]"
      ],
      "metadata": {
        "id": "T19MB5gdqVIC"
      },
      "execution_count": null,
      "outputs": []
    },
    {
      "cell_type": "code",
      "source": [
        "class KNN:\n",
        "    \"\"\"\n",
        "    K-Nearest Neighbors (KNN) classification algorithm\n",
        "\n",
        "    Parameters:\n",
        "    -----------\n",
        "    n_neighbors : int, optional (default=5)\n",
        "        Number of neighbors to use in the majority vote.\n",
        "\n",
        "    Methods:\n",
        "    --------\n",
        "    fit(X_train, y_train):\n",
        "        Stores the values of X_train and y_train.\n",
        "\n",
        "    predict(X):\n",
        "        Predicts the class labels for each example in X.\n",
        "\n",
        "    \"\"\"\n",
        "    def __init__(self, n_neighbors=5):\n",
        "        self.n_neighbors = n_neighbors\n",
        "\n",
        "    def euclidean_distance(self, x1, x2):\n",
        "        \"\"\"\n",
        "        Calculate the Euclidean distance between two data points.\n",
        "\n",
        "        Parameters:\n",
        "        -----------\n",
        "        x1 : numpy.ndarray, shape (n_features,)\n",
        "            A data point in the dataset.\n",
        "\n",
        "        x2 : numpy.ndarray, shape (n_features,)\n",
        "            A data point in the dataset.\n",
        "\n",
        "        Returns:\n",
        "        --------\n",
        "        distance : float\n",
        "            The Euclidean distance between x1 and x2.\n",
        "        \"\"\"\n",
        "        return np.linalg.norm(x1 - x2)\n",
        "\n",
        "    def fit(self, X_train, y_train):\n",
        "        \"\"\"\n",
        "        Stores the values of X_train and y_train.\n",
        "\n",
        "        Parameters:\n",
        "        -----------\n",
        "        X_train : numpy.ndarray, shape (n_samples, n_features)\n",
        "            The training dataset.\n",
        "\n",
        "        y_train : numpy.ndarray, shape (n_samples,)\n",
        "            The target labels.\n",
        "        \"\"\"\n",
        "        self.X_train = X_train\n",
        "        self.y_train = y_train\n",
        "\n",
        "    def predict(self, X):\n",
        "        \"\"\"\n",
        "        Predicts the class labels for each example in X.\n",
        "\n",
        "        Parameters:\n",
        "        -----------\n",
        "        X : numpy.ndarray, shape (n_samples, n_features)\n",
        "            The test dataset.\n",
        "\n",
        "        Returns:\n",
        "        --------\n",
        "        predictions : numpy.ndarray, shape (n_samples,)\n",
        "            The predicted class labels for each example in X.\n",
        "        \"\"\"\n",
        "        # Create empty array to store the predictions\n",
        "        predictions = []\n",
        "        # Loop over X examples\n",
        "        for x in X:\n",
        "            # Get prediction using the prediction helper function\n",
        "            prediction = self._predict(x)\n",
        "            # Append the prediction to the predictions list\n",
        "            predictions.append(prediction)\n",
        "        return np.array(predictions)\n",
        "\n",
        "    def _predict(self, x):\n",
        "        \"\"\"\n",
        "        Predicts the class label for a single example.\n",
        "\n",
        "        Parameters:\n",
        "        -----------\n",
        "        x : numpy.ndarray, shape (n_features,)\n",
        "            A data point in the test dataset.\n",
        "\n",
        "        Returns:\n",
        "        --------\n",
        "        most_occuring_value : int\n",
        "            The predicted class label for x.\n",
        "        \"\"\"\n",
        "        # Create empty array to store distances\n",
        "        distances = []\n",
        "        # Loop over all training examples and compute the distance between x and all the training examples\n",
        "        for x_train in self.X_train:\n",
        "            distance = self.euclidean_distance(x, x_train)\n",
        "            distances.append(distance)\n",
        "        distances = np.array(distances)\n",
        "\n",
        "        # Sort by ascendingly distance and return indices of the given n neighbours\n",
        "        n_neighbors_idxs = np.argsort(distances)[: self.n_neighbors]\n",
        "\n",
        "        # Get labels of n-neighbour indexes\n",
        "        labels = self.y_train[n_neighbors_idxs]\n",
        "        labels = list(labels)\n",
        "        # Get the most frequent class in the array\n",
        "        most_occuring_value = max(labels, key=labels.count)\n",
        "        return most_occuring_value"
      ],
      "metadata": {
        "id": "T9DLpAPzr2Na"
      },
      "execution_count": null,
      "outputs": []
    },
    {
      "cell_type": "code",
      "source": [
        "def train_test_split(X, y, random_state=42, test_size=0.2):\n",
        "    \"\"\"\n",
        "    Splits the data into training and testing sets.\n",
        "\n",
        "    Parameters:\n",
        "        X (numpy.ndarray): Features array of shape (n_samples, n_features).\n",
        "        y (numpy.ndarray): Target array of shape (n_samples,).\n",
        "        random_state (int): Seed for the random number generator. Default is 42.\n",
        "        test_size (float): Proportion of samples to include in the test set. Default is 0.2.\n",
        "\n",
        "    Returns:\n",
        "        Tuple[numpy.ndarray]: A tuple containing X_train, X_test, y_train, y_test.\n",
        "    \"\"\"\n",
        "    # Get number of samples\n",
        "    n_samples = X.shape[0]\n",
        "\n",
        "    # Set the seed for the random number generator\n",
        "    np.random.seed(random_state)\n",
        "\n",
        "    # Shuffle the indices\n",
        "    shuffled_indices = np.random.permutation(np.arange(n_samples))\n",
        "\n",
        "    # Determine the size of the test set\n",
        "    test_size = int(n_samples * test_size)\n",
        "\n",
        "    # Split the indices into test and train\n",
        "    test_indices = shuffled_indices[:test_size]\n",
        "    train_indices = shuffled_indices[test_size:]\n",
        "\n",
        "    # Split the features and target arrays into test and train\n",
        "    X_train, X_test = X[train_indices], X[test_indices]\n",
        "    y_train, y_test = y[train_indices], y[test_indices]\n",
        "\n",
        "    return X_train, X_test, y_train, y_test"
      ],
      "metadata": {
        "id": "LrC2jnTEr_Ga"
      },
      "execution_count": null,
      "outputs": []
    },
    {
      "cell_type": "code",
      "source": [
        "X_train, X_test, y_train, y_test = train_test_split(X.values, y.values, test_size = 0.2, random_state=42)"
      ],
      "metadata": {
        "id": "AQBKT5GnsDBi"
      },
      "execution_count": null,
      "outputs": []
    },
    {
      "cell_type": "code",
      "source": [
        "model = KNN(7)\n",
        "model.fit(X_train, y_train)"
      ],
      "metadata": {
        "id": "02PwQS79sEQa"
      },
      "execution_count": null,
      "outputs": []
    },
    {
      "cell_type": "code",
      "source": [
        "def compute_accuracy(y_true, y_pred):\n",
        "    \"\"\"\n",
        "    Computes the accuracy of a classification model.\n",
        "\n",
        "    Parameters:\n",
        "    y_true (numpy array): A numpy array of true labels for each data point.\n",
        "    y_pred (numpy array): A numpy array of predicted labels for each data point.\n",
        "\n",
        "    Returns:\n",
        "    float: The accuracy of the model, expressed as a percentage.\n",
        "    \"\"\"\n",
        "    y_true = y_true.flatten()\n",
        "    total_samples = len(y_true)\n",
        "    correct_predictions = np.sum(y_true == y_pred)\n",
        "    return (correct_predictions / total_samples)"
      ],
      "metadata": {
        "id": "jGfxtJFWsJE7"
      },
      "execution_count": null,
      "outputs": []
    },
    {
      "cell_type": "code",
      "source": [
        "predictions = model.predict(X_test)\n",
        "accuracy = compute_accuracy(y_test, predictions)\n",
        "print(f\" our model got accuracy score of : {accuracy}\")"
      ],
      "metadata": {
        "colab": {
          "base_uri": "https://localhost:8080/"
        },
        "id": "YCSQMLOosL6r",
        "outputId": "398a9462-6175-41cb-a886-9ec6e47dfcca"
      },
      "execution_count": null,
      "outputs": [
        {
          "output_type": "stream",
          "name": "stdout",
          "text": [
            " our model got accuracy score of : 0.9666666666666667\n"
          ]
        }
      ]
    }
  ]
}